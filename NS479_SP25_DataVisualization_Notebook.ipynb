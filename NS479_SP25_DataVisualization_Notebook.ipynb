{
  "nbformat": 4,
  "nbformat_minor": 0,
  "metadata": {
    "colab": {
      "provenance": [],
      "toc_visible": true
    },
    "kernelspec": {
      "name": "python3",
      "display_name": "Python 3"
    },
    "language_info": {
      "name": "python"
    }
  },
  "cells": [
    {
      "cell_type": "markdown",
      "source": [
        "# Data Visualization 📊 📉 📈\n",
        "<a name=\"DataViz\"></a>\n"
      ],
      "metadata": {
        "id": "VxIrjo68DHSr"
      }
    },
    {
      "cell_type": "markdown",
      "source": [
        "# Learning Objectives 🙋\n",
        "<a name=\"LOs\"></a>\n",
        "## At the end of today, you'll be able to:\n",
        "* Understand the basic components of a Jupyter notebook 📓\n",
        "* Write and debug basic Python code 🐍\n",
        "* Analyze datasets using Python libraries built for data science 💭 🧠\n",
        "* Learn and discuss best practices for data visualization to communicate your results 📢 📈\n",
        "\n",
        "**<font color=\"red\" size=4> IMPORTANT: This notebook is READ-ONLY. To edit and run this notebook, follow the steps in the next section.</font>**"
      ],
      "metadata": {
        "id": "7dMUsfvX98aj"
      }
    },
    {
      "cell_type": "markdown",
      "source": [
        "____\n",
        "## 💾 Before you start - Save this notebook!\n",
        "<a name=\"save\"></a>\n",
        "\n",
        "When you open a new Colab notebook from the WebCampus (like you hopefully did for this one), you cannot save changes. So it's  best to store the Colab notebook in your personal drive `\"File > Save a copy in drive...\"` **before** you do anything else.\n",
        "\n",
        "The file will open in a new tab in your web browser, and it is automatically named something like: \"**CopyofNS479_SP25_DataVisualization_Notebook.ipynb**\". You can rename this to just the title of the assignment \"**NS479_SP25_DataVisualization_Notebook.ipynb**\". Make sure you do keep an informative name (like the name of the assignment) to help you be able to come back to this after you complete this part of the assignment.\n",
        "\n",
        "**Where does the notebook get saved in Google Drive?**\n",
        "\n",
        "By default, the notebook will be copied to a folder called “Colab Notebooks” at the root (home) directory of your Google Drive.\n",
        "\n",
        "___"
      ],
      "metadata": {
        "id": "5YapfGsw-c0a"
      }
    },
    {
      "cell_type": "markdown",
      "source": [
        "# Section 0: Python 🐍  & Colab 📓\n",
        "<a name=\"section0\"></a>\n",
        "\n",
        "Welcome to Google Colab! We'll be working in Colab for this introductory Python course.\n",
        "\n",
        "</br>\n",
        "</br>\n",
        "<img src=\"https://miro.medium.com/max/986/1*pimj8lXWwZnqLs2xVCV2Aw.png\" width=500>\n",
        "</br>\n",
        "</br>\n",
        "\n",
        "\n",
        "## What is Colab?\n",
        "Colab is a browser-based environment - you can develop, run, and share code directly on your browser without having to install any software or libraries on your computer. Additionally, code written and run from colab runs on google's cloud computers, so you aren't limited by your laptop's speed or compute power. 📶\n",
        "\n",
        "</br>\n",
        "\n",
        "**<font color='red'>Note: One downside of Colab is that if you turn off your computer, are idle, or refresh the page, your current runtime is lost. You will need to run the notebook from the beginning in order to redo any variables, functions, or operations you have performed.</br></br> You can more easily rerun your notebook by clicking Runtime>>Run all, or Runtime>>Run before at the top of the page. This will attempt to run all of your current cells (until one gets an error) or  all of the cells above the current cell your cursor is on. </font>**\n",
        "\n",
        "</br>\n",
        "\n",
        "\n",
        "Colab can be especially helpful for data science tasks, because it gives you a space to write code, generate/view graphs, and organize your thought process.  For those of you who have used Jupyter before, colab acts a simple browser-based Jupyter notebook. We'll be using colab with Python, but colab can be used with a variety of different coding languages.\n",
        "\n",
        "</br>\n",
        "\n",
        "A Colab notebook (a file like this one) consists of cells, snippets of code or text that you can create, edit, and move around to keep things organized. These cells can be:\n",
        "\n",
        "*   **text cells** 🔠\n",
        "<br>or<br>\n",
        "*   **code cells** 💻\n",
        "\n",
        "You can **double click** <img src='https://miro.medium.com/v2/resize:fit:280/0*oa0XcvM99Y5clDsj.png' alt='mouse cursor images' height='25px'>\n",
        "on a cell in order\n",
        "to edit it.\n",
        "</br>"
      ],
      "metadata": {
        "id": "NCHJq2CB-6US"
      }
    },
    {
      "cell_type": "markdown",
      "source": [
        "----\n",
        "## Text Cells\n",
        "<a name=\"text\"></a>"
      ],
      "metadata": {
        "id": "qYBD9xDx-_ju"
      }
    },
    {
      "cell_type": "markdown",
      "source": [
        "\n",
        "\n",
        "This is a **text cell**. You can **double-click** to edit this cell. Text cells\n",
        "use markdown syntax. To learn more, see the [markdown\n",
        "guide](/notebooks/markdown_guide.ipynb).\n",
        "\n",
        "You can format text cells by **changing** `the` *font*,  adding:\n",
        "1.   Numbered lists, or\n",
        "*   Bullet points\n",
        "\n",
        "\n",
        "You can even add HTML to your text cells to embed images or add other fun effects.\n",
        "\n",
        "\n",
        "<img src = \"https://freesvg.org/img/icon-html.png\" width=100>\n",
        "\n",
        "\n",
        "You can also add math to text cells using [LaTeX](http://www.latex-project.org/)\n",
        "to be rendered by [MathJax](https://www.mathjax.org). Just place the statement\n",
        "within a pair of **\\$** signs. For example `$\\sqrt{3x-1}+(1+x)^2$` becomes\n",
        "$\\sqrt{3x-1}+(1+x)^2.$ <br><br>\n",
        "To insert a text cell, click on a cell on the page and then click the \"+ Text\" button at the top. Or scroll to the middle of the notebook page before/after a cell and you should see these options appear: <br>\n",
        "<img src=\"https://github.com/tmckim/python-crash-course/blob/main/imgs/ColabAddCodeTextImg.png?raw=1\"/>\n",
        "\n",
        "\n",
        "This will make a text cell directly above or below the cell you are on.\n"
      ],
      "metadata": {
        "id": "ayY_JgGs_BjS"
      }
    },
    {
      "cell_type": "markdown",
      "source": [
        "----\n",
        "## 🧘  0.0 Exercise\n",
        "\n",
        "<a name=\"exercise0.0\"></a>"
      ],
      "metadata": {
        "id": "0F5qGUij_G3g"
      }
    },
    {
      "cell_type": "markdown",
      "source": [
        "Using the HTML syntax ```<img src=\"INSERT IMAGE HTML\"> ```, embed the following image into a new text cell below. The image is hosted at:\n",
        "\n",
        "  ```  https://imgs.xkcd.com/comics/future_self.png ```\n"
      ],
      "metadata": {
        "id": "gkcny0U__J8A"
      }
    },
    {
      "cell_type": "markdown",
      "source": [
        "---\n",
        "## Code Cells\n",
        "<a name=\"code-cells\"></a>\n"
      ],
      "metadata": {
        "id": "67_rdn9u_TAz"
      }
    },
    {
      "cell_type": "markdown",
      "source": [
        "Colab notebooks also consist of **coding cells**, cells that have executable code written in them.\n",
        "\n",
        "To run a coding cell, either:\n",
        "1. hover over the cell and click the \"play\" ▶ arrow that appears on the left upper corner\n",
        "2. Or click into the cell and then press Ctrl+Enter (or Shift+Return).\n",
        "\n",
        "You should see a check mark if the cell runs successfully ✔.\n",
        "\n",
        "Coding cells can look like the following, where you can see raw code and comments (anything after the #hashtag). <br>"
      ],
      "metadata": {
        "id": "2piYfq91_VLs"
      }
    },
    {
      "cell_type": "code",
      "source": [
        "#@title Task\n",
        "from IPython.display import HTML\n",
        "\n",
        "alert_info = '''\n",
        "<div style= \"font-size: 20px\"; class=\"alert alert-info\" role=\"alert\">\n",
        "  <h4 class=\"alert-heading\">Task</h4>\n",
        "Run the code cell below!\n",
        "</div>\n",
        "'''\n",
        "\n",
        "display(HTML('<link href=\"https://nbviewer.org/static/build/styles.css\" rel=\"stylesheet\">'))\n",
        "display(HTML(alert_info))"
      ],
      "metadata": {
        "cellView": "form",
        "colab": {
          "base_uri": "https://localhost:8080/",
          "height": 200
        },
        "id": "jhz3Ih4m_gym",
        "outputId": "2da45f61-bad5-45ef-dacd-d1d3d109408b"
      },
      "execution_count": null,
      "outputs": [
        {
          "output_type": "display_data",
          "data": {
            "text/plain": [
              "<IPython.core.display.HTML object>"
            ],
            "text/html": [
              "<link href=\"https://nbviewer.org/static/build/styles.css\" rel=\"stylesheet\">"
            ]
          },
          "metadata": {}
        },
        {
          "output_type": "display_data",
          "data": {
            "text/plain": [
              "<IPython.core.display.HTML object>"
            ],
            "text/html": [
              "\n",
              "<div style= \"font-size: 20px\"; class=\"alert alert-info\" role=\"alert\">\n",
              "  <h4 class=\"alert-heading\">Task</h4>\n",
              "Run the code cell below!\n",
              "</div>\n"
            ]
          },
          "metadata": {}
        }
      ]
    },
    {
      "cell_type": "code",
      "source": [
        "n_bees = 13\n",
        "# This is a comment! When there is a # before a line in a coding cell,\n",
        "# python will ignore that line of code, rather than trying to run it.\n",
        "n_trials_per_bee = 8\n",
        "\n",
        "'''\n",
        "You can also\n",
        "write longer\n",
        "comments\n",
        "by using\n",
        "this syntax.\n",
        "'''\n",
        "\n",
        "print(\"Number of total trials from the bee lab:\", n_bees*n_trials_per_bee)"
      ],
      "metadata": {
        "id": "Co01LJYv_k69"
      },
      "execution_count": null,
      "outputs": []
    },
    {
      "cell_type": "markdown",
      "source": [
        "## Hidden Code\n",
        "<a name=\"hidden\"></a>\n",
        "\n",
        "Cells can also look like the following where you can hide code by adding the following line to the top of your cell.\n",
        "\n",
        "`#@title TITLE GOES HERE `.<br>\n",
        "\n",
        "You can click on the arrow **>** at the top left to show the code or on <font color='blue'>`Show code`</font>. You can still run hidden code cells by pushing \"play\" ▶, or clicking into the cell and typing Ctrl+Enter (or Shift+Return). To hide the code once more, double click on the text part of the cell."
      ],
      "metadata": {
        "id": "APDBJK6f_ow_"
      }
    },
    {
      "cell_type": "code",
      "source": [
        "#@title Hidden Code Example\n",
        "\n",
        "n_sections = 10\n",
        "n_exercises_per_section = 3\n",
        "print(\"Number of exercises in this notebook:\", n_sections*n_exercises_per_section)"
      ],
      "metadata": {
        "cellView": "form",
        "id": "iEl2XnGU_tU5"
      },
      "execution_count": null,
      "outputs": []
    },
    {
      "cell_type": "markdown",
      "source": [
        "-----\n",
        "## 🏃 0.1 Coding Exercise\n",
        "\n",
        "<a name=\"exercise0.1\"></a>"
      ],
      "metadata": {
        "id": "ny8ob7GT_w4P"
      }
    },
    {
      "cell_type": "code",
      "source": [
        "#@title Task\n",
        "from IPython.display import HTML\n",
        "\n",
        "alert_info = '''\n",
        "<div style= \"font-size: 20px\"; class=\"alert alert-info\" role=\"alert\">\n",
        "  <h4 class=\"alert-heading\">Task</h4>\n",
        "Fill in the following code cell and run it.\n",
        "</div>\n",
        "'''\n",
        "\n",
        "display(HTML('<link href=\"https://nbviewer.org/static/build/styles.css\" rel=\"stylesheet\">'))\n",
        "display(HTML(alert_info))"
      ],
      "metadata": {
        "cellView": "form",
        "colab": {
          "base_uri": "https://localhost:8080/",
          "height": 200
        },
        "id": "cPwTVsTL_y_A",
        "outputId": "0725449e-3c2f-4b35-97c6-86b7443bc0a4"
      },
      "execution_count": null,
      "outputs": [
        {
          "output_type": "display_data",
          "data": {
            "text/plain": [
              "<IPython.core.display.HTML object>"
            ],
            "text/html": [
              "<link href=\"https://nbviewer.org/static/build/styles.css\" rel=\"stylesheet\">"
            ]
          },
          "metadata": {}
        },
        {
          "output_type": "display_data",
          "data": {
            "text/plain": [
              "<IPython.core.display.HTML object>"
            ],
            "text/html": [
              "\n",
              "<div style= \"font-size: 20px\"; class=\"alert alert-info\" role=\"alert\">\n",
              "  <h4 class=\"alert-heading\">Task</h4>\n",
              "Fill in the following code cell and run it.\n",
              "</div>\n"
            ]
          },
          "metadata": {}
        }
      ]
    },
    {
      "cell_type": "code",
      "source": [
        "breakfast_yesterday = \"coffee\" ### REPLACE WITH YOUR CODE HERE ###\n",
        "lunch_yesterday = \"chicken salad\" ### REPLACE WITH YOUR CODE HERE ###\n",
        "print(\"I had\", breakfast_yesterday, \"for breakfast\",\n",
        "      \"and\", lunch_yesterday, \"for lunch.\")"
      ],
      "metadata": {
        "id": "cRCnuzLn_1XY"
      },
      "execution_count": null,
      "outputs": []
    },
    {
      "cell_type": "markdown",
      "source": [
        "----\n",
        "## 🏋 0.2 Coding Exercise\n",
        "\n",
        "<a name=\"exercise0.2\"></a>"
      ],
      "metadata": {
        "id": "w6_h3f8d_35P"
      }
    },
    {
      "cell_type": "code",
      "source": [
        "#@title Task\n",
        "from IPython.display import HTML\n",
        "\n",
        "alert_info = '''\n",
        "<div style=\"font-size: 20px;\" class=\"alert alert-info\" role=\"alert\">\n",
        "  <h4 class=\"alert-heading\">Task</h4>\n",
        "  Delete the text cell below, and replace it with a code cell that prints\n",
        "  <a href=\"https://slate.com/technology/2019/10/hello-world-history-programming.html\" target=\"_blank\">\n",
        "    every programmer's first words\n",
        "  </a>:\n",
        "  <br>\n",
        "  <strong>\"Hello, world!\"</strong>\n",
        "</div>\n",
        "'''\n",
        "\n",
        "display(HTML('<link href=\"https://nbviewer.org/static/build/styles.css\" rel=\"stylesheet\">'))\n",
        "display(HTML(alert_info))\n"
      ],
      "metadata": {
        "cellView": "form",
        "colab": {
          "base_uri": "https://localhost:8080/",
          "height": 228
        },
        "id": "8UEE8_bTACyj",
        "outputId": "3a03e908-2bb2-455b-ce24-a98fc2a7f1e8"
      },
      "execution_count": null,
      "outputs": [
        {
          "output_type": "display_data",
          "data": {
            "text/plain": [
              "<IPython.core.display.HTML object>"
            ],
            "text/html": [
              "<link href=\"https://nbviewer.org/static/build/styles.css\" rel=\"stylesheet\">"
            ]
          },
          "metadata": {}
        },
        {
          "output_type": "display_data",
          "data": {
            "text/plain": [
              "<IPython.core.display.HTML object>"
            ],
            "text/html": [
              "\n",
              "<div style=\"font-size: 20px;\" class=\"alert alert-info\" role=\"alert\">\n",
              "  <h4 class=\"alert-heading\">Task</h4>\n",
              "  Delete the text cell below, and replace it with a code cell that prints\n",
              "  <a href=\"https://slate.com/technology/2019/10/hello-world-history-programming.html\" target=\"_blank\">\n",
              "    every programmer's first words\n",
              "  </a>:\n",
              "  <br>\n",
              "  <strong>\"Hello, world!\"</strong>\n",
              "</div>\n"
            ]
          },
          "metadata": {}
        }
      ]
    },
    {
      "cell_type": "markdown",
      "source": [
        "**DELETE ME!**"
      ],
      "metadata": {
        "id": "RTrpBkU3AFOM"
      }
    },
    {
      "cell_type": "code",
      "source": [
        "#@title Solution\n",
        "print('Hello, World!')"
      ],
      "metadata": {
        "cellView": "form",
        "id": "csL-uVvPAHJK"
      },
      "execution_count": null,
      "outputs": []
    },
    {
      "cell_type": "markdown",
      "source": [
        "# Bee Lab Data Visualization 🐝📊"
      ],
      "metadata": {
        "id": "XYGNuMLm8UJO"
      }
    },
    {
      "cell_type": "markdown",
      "source": [
        "In this lab, our goal was to determine whether color is one of the features of a flower that bees can learn.<br>\n",
        "You trained your bees, and recorded the data on your data sheet. <br>\n",
        "There was:\n",
        "* 2 pre-training trials\n",
        "* 4 training trials\n",
        "* A part 1 test trial\n",
        "* A part 2 test trial\n",
        "<br>\n",
        "\n",
        "Below we will import the group data from all students and visualize the results."
      ],
      "metadata": {
        "id": "b020MsSF-XqU"
      }
    },
    {
      "cell_type": "markdown",
      "source": [
        "# Section 1: Setup and import files 🧰 🛠\n",
        "<a name=\"section1\"></a>\n",
        "\n",
        "There are several steps we need to do to access the dataset before we can load the file:\n",
        "1. Copy the data file to working memory to run in this notebook\n",
        "2. Check that we have it available to us<br>\n"
      ],
      "metadata": {
        "id": "zUFW7oo6AL3A"
      }
    },
    {
      "cell_type": "code",
      "source": [
        "#@title Task\n",
        "from IPython.display import HTML\n",
        "\n",
        "alert_info = '''\n",
        "<div style=\"font-size: 20px;\" class=\"alert alert-info\" role=\"alert\">\n",
        "  <h4 class=\"alert-heading\">Task</h4>\n",
        "  We will start by downloading the data file (<code>BeeLab_LearningBehavior_Part1.xlsx</code>) to access for today.<br>\n",
        "  Run the cell below. If it works, you should see text that looks like this:\n",
        "</div>\n",
        "'''\n",
        "\n",
        "display(HTML('<link href=\"https://nbviewer.org/static/build/styles.css\" rel=\"stylesheet\">'))\n",
        "display(HTML(alert_info))"
      ],
      "metadata": {
        "colab": {
          "base_uri": "https://localhost:8080/",
          "height": 228
        },
        "cellView": "form",
        "id": "V69yzudcARHI",
        "outputId": "67130a97-40b7-4a7e-d25d-e23eb27344bc"
      },
      "execution_count": null,
      "outputs": [
        {
          "output_type": "display_data",
          "data": {
            "text/plain": [
              "<IPython.core.display.HTML object>"
            ],
            "text/html": [
              "<link href=\"https://nbviewer.org/static/build/styles.css\" rel=\"stylesheet\">"
            ]
          },
          "metadata": {}
        },
        {
          "output_type": "display_data",
          "data": {
            "text/plain": [
              "<IPython.core.display.HTML object>"
            ],
            "text/html": [
              "\n",
              "<div style=\"font-size: 20px;\" class=\"alert alert-info\" role=\"alert\">\n",
              "  <h4 class=\"alert-heading\">Task</h4>\n",
              "  We will start by downloading the data file (<code>BeeLab_LearningBehavior_Part1.xlsx</code>) to access for today.<br>\n",
              "  Run the cell below. If it works, you should see text that looks like this:\n",
              "</div>\n"
            ]
          },
          "metadata": {}
        }
      ]
    },
    {
      "cell_type": "markdown",
      "source": [
        "<img src=\"https://github.com/tmckim/NS479_NeuroTechniquesLab/blob/main/imgs/ImportFileSuccess.png?raw=1\"/>\n",
        "\n",
        "\n",
        "---"
      ],
      "metadata": {
        "id": "pbmUW5aEBlpS"
      }
    },
    {
      "cell_type": "code",
      "execution_count": null,
      "metadata": {
        "id": "dZTpLhxHxXMP"
      },
      "outputs": [],
      "source": [
        "!wget --no-check-certificate 'https://docs.google.com/uc?export=download&id=13sbMgONGidkP_H8Tvujw3C0eD-wCdLbO' -O BeeLab_LearningBehavior_Part1.xlsx"
      ]
    },
    {
      "cell_type": "code",
      "source": [
        "#@title Task\n",
        "from IPython.display import HTML\n",
        "\n",
        "alert_info = '''\n",
        "<div style=\"font-size: 20px;\" class=\"alert alert-info\" role=\"alert\">\n",
        "  <h4 class=\"alert-heading\">Task</h4>\n",
        "  On the left side of the Colab window, click the 📁 icon, and double click on your files to see what the raw data looks like.<br>\n",
        "  You should see a file called <code> BeeLab_LearningBehavior_Part1.xlsx </code>.\n",
        "</div>\n",
        "'''\n",
        "\n",
        "display(HTML('<link href=\"https://nbviewer.org/static/build/styles.css\" rel=\"stylesheet\">'))\n",
        "display(HTML(alert_info))"
      ],
      "metadata": {
        "colab": {
          "base_uri": "https://localhost:8080/",
          "height": 228
        },
        "cellView": "form",
        "id": "5QXwPj98B-8k",
        "outputId": "82116ace-077e-4f9d-af1f-1af93f65b8ce"
      },
      "execution_count": null,
      "outputs": [
        {
          "output_type": "display_data",
          "data": {
            "text/plain": [
              "<IPython.core.display.HTML object>"
            ],
            "text/html": [
              "<link href=\"https://nbviewer.org/static/build/styles.css\" rel=\"stylesheet\">"
            ]
          },
          "metadata": {}
        },
        {
          "output_type": "display_data",
          "data": {
            "text/plain": [
              "<IPython.core.display.HTML object>"
            ],
            "text/html": [
              "\n",
              "<div style=\"font-size: 20px;\" class=\"alert alert-info\" role=\"alert\">\n",
              "  <h4 class=\"alert-heading\">Task</h4>\n",
              "  On the left side of the Colab window, click the 📁 icon, and double click on your files to see what the raw data looks like.<br>\n",
              "  You should see a file called <code> BeeLab_LearningBehavior_Part1.xlsx </code>.\n",
              "</div>\n"
            ]
          },
          "metadata": {}
        }
      ]
    },
    {
      "cell_type": "markdown",
      "source": [
        "<img src=\"https://github.com/tmckim/NS479_NeuroTechniquesLab/blob/main/imgs/ColabFileDir.png?raw=1\"/>"
      ],
      "metadata": {
        "id": "B4VhLSjuCGmp"
      }
    },
    {
      "cell_type": "code",
      "source": [
        "#@title Alert\n",
        "from IPython.display import HTML\n",
        "\n",
        "alert_info = '''\n",
        "<div class=\"alert alert-block alert-warning\">\n",
        "<div style= \"font-size: 20px\">\n",
        "  <h4 class=\"alert-heading\">Alert</h4>\n",
        "<b>If this was not successful for you, please let us know and we will help troubleshoot!</b>\n",
        "</div>\n",
        "'''\n",
        "\n",
        "\n",
        "display(HTML('<link href=\"https://nbviewer.org/static/build/styles.css\" rel=\"stylesheet\">'))\n",
        "display(HTML(alert_info))"
      ],
      "metadata": {
        "cellView": "form",
        "colab": {
          "base_uri": "https://localhost:8080/",
          "height": 200
        },
        "id": "L6UZWOceCM4B",
        "outputId": "f5e39c42-a677-44ab-cf4e-4076e9eed27a"
      },
      "execution_count": null,
      "outputs": [
        {
          "output_type": "display_data",
          "data": {
            "text/plain": [
              "<IPython.core.display.HTML object>"
            ],
            "text/html": [
              "<link href=\"https://nbviewer.org/static/build/styles.css\" rel=\"stylesheet\">"
            ]
          },
          "metadata": {}
        },
        {
          "output_type": "display_data",
          "data": {
            "text/plain": [
              "<IPython.core.display.HTML object>"
            ],
            "text/html": [
              "\n",
              "<div class=\"alert alert-block alert-warning\">\n",
              "<div style= \"font-size: 20px\">\n",
              "  <h4 class=\"alert-heading\">Alert</h4>\n",
              "<b>If this was not successful for you, please let us know and we will help troubleshoot!</b>\n",
              "</div>\n"
            ]
          },
          "metadata": {}
        }
      ]
    },
    {
      "cell_type": "markdown",
      "source": [
        "----\n",
        "## 📚 Python Libraries (packages 📦)\n",
        "<a name=\"pylibs\"></a>\n",
        "\n",
        "Python comes with many useful built in classes and functions - lists, dictionaries, counters, and their associated functions, are some examples. You can accomplish many simple tasks using native Python code.\n",
        "\n",
        "</br>\n",
        "<img src=\"https://cdn.pixabay.com/photo/2016/03/26/22/21/books-1281581_960_720.jpg\" width=600>\n",
        "</br>\n",
        "\n",
        "However, just like in many computer languages, the beauty of Python is that other people have spent much time developing useful code that they have tested robustly and wish to share with others. These are called libraries or packages.  We can import popular packages into the Python/Colab environment and if the package has not already been installed on our version of Python, we can easily install the package and use it.\n",
        "\n",
        "(In Colab, or in a linux environment if you run Python locally, we can easily install new packages using ```!pip install [PYTHON PACKAGE]```)\n",
        "\n",
        "For this Colab notebook we will be working with four packages that typically come pre-installed on most versions of Python. They are:\n",
        "\n",
        "\n",
        "- **[numpy](https://numpy.org/doc/stable/user/index.html)**: A library for working with numerical lists, called arrays\n",
        "- **[pandas](https://pandas.pydata.org/docs/user_guide/index.html)**: A library for working with two dimenional lists, called dataframes\n",
        "- **[matplotlib](https://matplotlib.org/stable/tutorials/index)**: A package for plotting, commonly used in tandem with numpy and pandas\n",
        "- **[seaborn](https://seaborn.pydata.org/tutorial.html)**: A package for plotting, commonly used in tandem with pandas\n",
        "\n",
        "</br><img src=\"https://miro.medium.com/max/765/1*cyXCE-JcBelTyrK-58w6_Q.png\" width=200> <img src=\"https://upload.wikimedia.org/wikipedia/commons/thumb/e/ed/Pandas_logo.svg/1200px-Pandas_logo.svg.png\" width=200> </br><img src=\"https://matplotlib.org/stable/_static/logo_dark.svg\" width=200> <img src=\"https://seaborn.pydata.org/_images/logo-wide-lightbg.svg\" width=200> </br></br>\n",
        "We can import these libraries (or certain classes/functions from these libraries) into our local runtime using the following code. The nicknames I used (`np`, `plt`, `np`, and `sns`)  are pretty standard nicknames that most Python programmers use, though you could use anything.\n"
      ],
      "metadata": {
        "id": "TA8IND3PCST1"
      }
    },
    {
      "cell_type": "code",
      "source": [
        "#@title Task\n",
        "from IPython.display import HTML\n",
        "\n",
        "alert_info = '''\n",
        "<div style=\"font-size: 20px;\" class=\"alert alert-info\" role=\"alert\">\n",
        "  <h4 class=\"alert-heading\">Task</h4>\n",
        "  Run the cell below to import the relevant libraries.\n",
        "</div>\n",
        "'''\n",
        "\n",
        "display(HTML('<link href=\"https://nbviewer.org/static/build/styles.css\" rel=\"stylesheet\">'))\n",
        "display(HTML(alert_info))"
      ],
      "metadata": {
        "colab": {
          "base_uri": "https://localhost:8080/",
          "height": 200
        },
        "cellView": "form",
        "id": "yKe2wRvMCXJi",
        "outputId": "cb4c52b9-e723-44c2-d241-642516caa697"
      },
      "execution_count": null,
      "outputs": [
        {
          "output_type": "display_data",
          "data": {
            "text/plain": [
              "<IPython.core.display.HTML object>"
            ],
            "text/html": [
              "<link href=\"https://nbviewer.org/static/build/styles.css\" rel=\"stylesheet\">"
            ]
          },
          "metadata": {}
        },
        {
          "output_type": "display_data",
          "data": {
            "text/plain": [
              "<IPython.core.display.HTML object>"
            ],
            "text/html": [
              "\n",
              "<div style=\"font-size: 20px;\" class=\"alert alert-info\" role=\"alert\">\n",
              "  <h4 class=\"alert-heading\">Task</h4>\n",
              "  Run the cell below to import the relevant libraries.\n",
              "</div>\n"
            ]
          },
          "metadata": {}
        }
      ]
    },
    {
      "cell_type": "code",
      "source": [
        "### RUN THIS CELL ###\n",
        "\n",
        "# Import our plotting package from matplotlib and shorten it to plt\n",
        "import matplotlib.pyplot as plt\n",
        "\n",
        "# Specify that all plots will happen inline & in high resolution\n",
        "%matplotlib inline\n",
        "%config InlineBackend.figure_format = 'retina'\n",
        "\n",
        "# Import pandas for working with databases and shorten it to pd\n",
        "import pandas as pd\n",
        "\n",
        "# Import numpy and shorten it to np\n",
        "import numpy as np\n",
        "\n",
        "# Import plotting package seaborn and shorten to sns\n",
        "import seaborn as sns\n",
        "\n",
        "# Import stats from scipy and shorten it to stats\n",
        "from scipy import stats\n",
        "\n",
        "# Print statement to confirm\n",
        "print('Packages imported!')"
      ],
      "metadata": {
        "id": "kWe-LorKyNqh"
      },
      "execution_count": null,
      "outputs": []
    },
    {
      "cell_type": "markdown",
      "source": [
        "---\n",
        "## 📫 Importing Data\n",
        "<a name=\"import\"></a>\n",
        "\n",
        "Read the file from the colab files into your runtime. There are several options for reading a file in, but we will use the `pandas` package (which we imported as `pd`): <br>\n",
        "*   pandas [```read_excel()```](https://pandas.pydata.org/docs/reference/api/pandas.read_excel.html) or [```read_csv()```](https://pandas.pydata.org/docs/reference/api/pandas.read_csv.html) function, which reads a file with multiple data types into a dataframe.\n",
        "\n"
      ],
      "metadata": {
        "id": "_mapjKRVCasL"
      }
    },
    {
      "cell_type": "code",
      "source": [
        "#@title Task\n",
        "from IPython.display import HTML\n",
        "\n",
        "alert_info = '''\n",
        "<div style=\"font-size: 20px;\" class=\"alert alert-info\" role=\"alert\">\n",
        "  <h4 class=\"alert-heading\">Task</h4>\n",
        "  Run the cells below to import and view the data.\n",
        "</div>\n",
        "'''\n",
        "\n",
        "display(HTML('<link href=\"https://nbviewer.org/static/build/styles.css\" rel=\"stylesheet\">'))\n",
        "display(HTML(alert_info))"
      ],
      "metadata": {
        "cellView": "form",
        "colab": {
          "base_uri": "https://localhost:8080/",
          "height": 200
        },
        "id": "lHYSK24wNM33",
        "outputId": "a8e96c46-dbf5-472a-f302-a3ad73e29d0c"
      },
      "execution_count": null,
      "outputs": [
        {
          "output_type": "display_data",
          "data": {
            "text/plain": [
              "<IPython.core.display.HTML object>"
            ],
            "text/html": [
              "<link href=\"https://nbviewer.org/static/build/styles.css\" rel=\"stylesheet\">"
            ]
          },
          "metadata": {}
        },
        {
          "output_type": "display_data",
          "data": {
            "text/plain": [
              "<IPython.core.display.HTML object>"
            ],
            "text/html": [
              "\n",
              "<div style=\"font-size: 20px;\" class=\"alert alert-info\" role=\"alert\">\n",
              "  <h4 class=\"alert-heading\">Task</h4>\n",
              "  Run the cells below to import and view the data.\n",
              "</div>\n"
            ]
          },
          "metadata": {}
        }
      ]
    },
    {
      "cell_type": "code",
      "source": [
        "### RUN THIS CELL ###\n",
        "## Import file\n",
        "\n",
        "bees = pd.read_excel('BeeLab_LearningBehavior_Part1.xlsx')\n",
        "print('data imported!')"
      ],
      "metadata": {
        "id": "Ny2O599lyDbL"
      },
      "execution_count": null,
      "outputs": []
    },
    {
      "cell_type": "code",
      "source": [
        "### RUN THIS CELL ###\n",
        "## Type the name of the dataframe to view it\n",
        "\n",
        "bees"
      ],
      "metadata": {
        "id": "YcpFZK5tySyl"
      },
      "execution_count": null,
      "outputs": []
    },
    {
      "cell_type": "code",
      "source": [
        "### RUN THIS CELL ###\n",
        "## Another quick preview of variables\n",
        "\n",
        "bees.info()"
      ],
      "metadata": {
        "id": "zT2PB8V0Crmv"
      },
      "execution_count": null,
      "outputs": []
    },
    {
      "cell_type": "markdown",
      "source": [
        "We have 26 rows (observations) and 4 columns. In the column labeled `Column`, the names of each column are listed and it shows how many non-null values are present, meaning how much data there is. <br>\n",
        "Any difference between this number and the total number of entries (26 shown at the top) would indicate there is missing data. <br><br>\n",
        "The last column `Dtype` tells us what type of data you have in each column.<br>\n",
        "You can see here that many are numbers and have no decimals, so whole numbers (`int64`).<br>"
      ],
      "metadata": {
        "id": "MlRf0ZORC4jg"
      }
    },
    {
      "cell_type": "markdown",
      "source": [
        "---\n",
        "## ❗A Note on Missing Data\n",
        "<a name=\"missing\"></a>\n",
        "\n",
        "We can see that we do **not** have missing data here. Yay! 👏\n",
        "\n",
        "However, if we had missing values, they are labeled with `NaN`, which stands for `Not a Number`.<br>\n",
        "This is typically a common naming convention to use, and you will see it across datasets. <br><br>\n",
        "If you work with datasets that have NaNs, you will need to make some decisions on what you do with this data.\n",
        "\n",
        "---"
      ],
      "metadata": {
        "id": "2K0KcPU2DQvM"
      }
    },
    {
      "cell_type": "markdown",
      "source": [
        "## 👀 Reviewing the Dataset: Descriptive Statistics 🔎"
      ],
      "metadata": {
        "id": "IjV0f3U_Dsqw"
      }
    },
    {
      "cell_type": "markdown",
      "source": [
        "<a name=\"describe\"></a>\n",
        "We will now examine descriptive statistics of our different variables. We are typically interested in different parameters, such as: counts, means, and standard deviation. This will tell us more about our sample -- it will describe the data we have available to work with.<br>\n",
        "\n",
        "There is a built in method to do just this with `pandas` called [`describe`](https://pandas.pydata.org/pandas-docs/stable/reference/api/pandas.DataFrame.describe.html). <br>"
      ],
      "metadata": {
        "id": "kNurFEz-D8tE"
      }
    },
    {
      "cell_type": "code",
      "source": [
        "#@title Task\n",
        "from IPython.display import HTML\n",
        "\n",
        "alert_info = '''\n",
        "<div style=\"font-size: 20px;\" class=\"alert alert-info\" role=\"alert\">\n",
        "  <h4 class=\"alert-heading\">Task</h4>\n",
        "   Run the cell below to view descriptive statistics and <code>describe</code> the data.\n",
        "</div>\n",
        "'''\n",
        "\n",
        "display(HTML('<link href=\"https://nbviewer.org/static/build/styles.css\" rel=\"stylesheet\">'))\n",
        "display(HTML(alert_info))"
      ],
      "metadata": {
        "colab": {
          "base_uri": "https://localhost:8080/",
          "height": 200
        },
        "cellView": "form",
        "id": "TVcB8ta1ED1v",
        "outputId": "45aecd6f-b8ee-48a4-d5ba-16ae1fac0f84"
      },
      "execution_count": null,
      "outputs": [
        {
          "output_type": "display_data",
          "data": {
            "text/plain": [
              "<IPython.core.display.HTML object>"
            ],
            "text/html": [
              "<link href=\"https://nbviewer.org/static/build/styles.css\" rel=\"stylesheet\">"
            ]
          },
          "metadata": {}
        },
        {
          "output_type": "display_data",
          "data": {
            "text/plain": [
              "<IPython.core.display.HTML object>"
            ],
            "text/html": [
              "\n",
              "<div style=\"font-size: 20px;\" class=\"alert alert-info\" role=\"alert\">\n",
              "  <h4 class=\"alert-heading\">Task</h4>\n",
              "   Run the cell below to view descriptive statistics and <code>describe</code> the data.\n",
              "</div>\n"
            ]
          },
          "metadata": {}
        }
      ]
    },
    {
      "cell_type": "code",
      "source": [
        "### RUN THIS CELL ###\n",
        "\n",
        "bees.describe()"
      ],
      "metadata": {
        "id": "rdSHXrJSyTIh",
        "collapsed": true
      },
      "execution_count": null,
      "outputs": []
    },
    {
      "cell_type": "markdown",
      "source": [
        "## Flipping the data format\n",
        "\n",
        "This data is in **wide format**, where each row would represent a different bee and all data for that bee would be contained in the columns of a single row. <br>\n",
        "For working with your plotting package (`seaborn`), our data needs to be in **long format**. This means we need to transform the data so that an individual bee is actually repeated across multiple rows of the dataset.<br>\n",
        "A single bee is repeated across the rows. The data for each bee will appear in multiple rows, with different columns containing info about the trial types:\n",
        "* `CS_Type`: `CS_Plus` and `CS_Minus`\n",
        "* `Measure`: `Choice` and `Expected`\n",
        "<br>\n",
        "\n",
        "You don't have to understand all of the details in the following code, it is meant for you to run and put the data into the format that you need for visualization."
      ],
      "metadata": {
        "id": "jf9QFsMqEPdr"
      }
    },
    {
      "cell_type": "code",
      "source": [
        "#@title Task\n",
        "from IPython.display import HTML\n",
        "\n",
        "alert_info = '''\n",
        "<div style=\"font-size: 20px;\" class=\"alert alert-info\" role=\"alert\">\n",
        "  <h4 class=\"alert-heading\">Task</h4>\n",
        "   Run the following cell to transform the data into long format.<br>\n",
        "   You don't need to know the details, but feel free to show the code if you are interested.\n",
        "</div>\n",
        "'''\n",
        "\n",
        "display(HTML('<link href=\"https://nbviewer.org/static/build/styles.css\" rel=\"stylesheet\">'))\n",
        "display(HTML(alert_info))"
      ],
      "metadata": {
        "colab": {
          "base_uri": "https://localhost:8080/",
          "height": 229
        },
        "cellView": "form",
        "id": "zWOqc6gCGTjj",
        "outputId": "1cf0a6e1-7508-406d-9692-47a60e3d820f"
      },
      "execution_count": null,
      "outputs": [
        {
          "output_type": "display_data",
          "data": {
            "text/plain": [
              "<IPython.core.display.HTML object>"
            ],
            "text/html": [
              "<link href=\"https://nbviewer.org/static/build/styles.css\" rel=\"stylesheet\">"
            ]
          },
          "metadata": {}
        },
        {
          "output_type": "display_data",
          "data": {
            "text/plain": [
              "<IPython.core.display.HTML object>"
            ],
            "text/html": [
              "\n",
              "<div style=\"font-size: 20px;\" class=\"alert alert-info\" role=\"alert\">\n",
              "  <h4 class=\"alert-heading\">Task</h4>\n",
              "   Run the following cell to transform the data into long format.<br>\n",
              "   You don't need to know the details, but feel free to show the code if you are interested.\n",
              "</div>\n"
            ]
          },
          "metadata": {}
        }
      ]
    },
    {
      "cell_type": "code",
      "source": [
        "#@title Just run this cell - hidden code\n",
        "\n",
        "## Convert to long format\n",
        "df_long = bees.melt(var_name=\"Category\", value_name=\"Value\")\n",
        "## Extract CS type (Plus/Minus) and measure (Chose/Expected)\n",
        "df_long[\"CS_Type\"] = df_long[\"Category\"].apply(lambda x: \"CS_Plus\" if \"Plus\" in x else \"CS_Minus\")\n",
        "df_long[\"Measure\"] = df_long[\"Category\"].apply(lambda x: \"Choice\" if \"Choice\" in x else \"Expected\")\n",
        "## Reorganize columns\n",
        "df_long = df_long[[\"CS_Type\", \"Measure\", \"Value\"]]\n",
        "df_long"
      ],
      "metadata": {
        "id": "NmSMrPB-1L6E",
        "cellView": "form"
      },
      "execution_count": null,
      "outputs": []
    },
    {
      "cell_type": "markdown",
      "source": [
        "---\n",
        "# Plotting the data 📈 📉\n",
        "<a name=\"plot-sns\"></a>\n",
        "\n",
        "[Seaborn](https://seaborn.pydata.org/) is a library for data visualization and figure making. Seaborn works very well with `pandas` dataframes, and you can modify the appearances of your plots using similar settings to how we did it in `numpy`. It can also work together with `matplotlib`. <br> In `seaborn`, we:<br>\n",
        "(1) decide what plotting function to use, <br>\n",
        "(2) pass the function a **full dataframe**, <br>\n",
        "(3) specify which columns in our dataframe we want to use as our x-axis, y-axis, colors, etc. and <br>\n",
        "(4) specify any additional parameters specific to the plotting function. <br>\n",
        "\n",
        "\n",
        "```\n",
        "sns.PLOT_FUNCTION(\n",
        "    data=YOUR_DATA,\n",
        "    x='COL TO USE FOR X',\n",
        "    y='COL TO USE FOR Y',\n",
        "    hue = 'COL YOU WANT TO SET COLOR ACCORDING TO',\n",
        "    additional params=...)\n",
        "```"
      ],
      "metadata": {
        "id": "H_EmyCXTGkx3"
      }
    },
    {
      "cell_type": "code",
      "source": [
        "#@title Task\n",
        "from IPython.display import HTML\n",
        "\n",
        "alert_info = '''\n",
        "<div style=\"font-size: 20px;\" class=\"alert alert-info\" role=\"alert\">\n",
        "  <h4 class=\"alert-heading\">Task</h4>\n",
        "   Review and run the cells below to plot the data.\n",
        "</div>\n",
        "'''\n",
        "\n",
        "display(HTML('<link href=\"https://nbviewer.org/static/build/styles.css\" rel=\"stylesheet\">'))\n",
        "display(HTML(alert_info))"
      ],
      "metadata": {
        "colab": {
          "base_uri": "https://localhost:8080/",
          "height": 200
        },
        "cellView": "form",
        "id": "fnZVSHWuG88E",
        "outputId": "3e5f8e3f-2897-4117-95cb-41ff2d26340f"
      },
      "execution_count": null,
      "outputs": [
        {
          "output_type": "display_data",
          "data": {
            "text/plain": [
              "<IPython.core.display.HTML object>"
            ],
            "text/html": [
              "<link href=\"https://nbviewer.org/static/build/styles.css\" rel=\"stylesheet\">"
            ]
          },
          "metadata": {}
        },
        {
          "output_type": "display_data",
          "data": {
            "text/plain": [
              "<IPython.core.display.HTML object>"
            ],
            "text/html": [
              "\n",
              "<div style=\"font-size: 20px;\" class=\"alert alert-info\" role=\"alert\">\n",
              "  <h4 class=\"alert-heading\">Task</h4>\n",
              "   Review and run the cells below to plot the data.\n",
              "</div>\n"
            ]
          },
          "metadata": {}
        }
      ]
    },
    {
      "cell_type": "markdown",
      "source": [
        "Let's create a plot that shows both the `Choice` the bees made compared to the `Expected` frequency if the choices were at chance level.<br>\n",
        "We will plot the choices based on stimulus type: `CS_Plus` and `CS_Minus`"
      ],
      "metadata": {
        "id": "zgrjBmnNHA3V"
      }
    },
    {
      "cell_type": "code",
      "source": [
        "### RUN THIS CELL ###\n",
        "\n",
        "sns.barplot(df_long,\n",
        "            x = \"CS_Type\",\n",
        "            y = \"Value\",\n",
        "            hue = \"Measure\",\n",
        "            errorbar = \"se\");"
      ],
      "metadata": {
        "id": "U7hmTfW91sqx"
      },
      "execution_count": null,
      "outputs": []
    },
    {
      "cell_type": "markdown",
      "source": [
        "The default plot settings produced in `seaborn` aren't too bad. <br>\n",
        "However, if we create many figures, let's set some parameters throughout our code to make sure axes and labels are consistent across our figures in this notebook."
      ],
      "metadata": {
        "id": "cZ1PuEHVHhlN"
      }
    },
    {
      "cell_type": "code",
      "source": [
        "### RUN THIS CELL ###\n",
        "\n",
        "# Set this text for the plot- easiest to edit here as needed\n",
        "x_label_name = \"Conditioned Stimulus (CS) Type\"                               # x-axis label text\n",
        "y_label_name = \"Count\"                                                        # y-axis label text\n",
        "plot_title = \"Comparison of Bee Choice vs. Expected Count by CS Type\"         # plot title text\n",
        "fig_name_barplot = \"BarPlot_Part1.png\"\n",
        "\n",
        "# Example of a bar plot\n",
        "sp = sns.barplot(                                                             # plotting option to use in seaborn\n",
        "    data = df_long,                                                           # dataframe\n",
        "    x = \"CS_Type\",                                                            # column name to use values for x-axis\n",
        "    y = \"Value\",                                                              # column name to use values for y-axis\n",
        "    hue = \"Measure\",                                                          # group the values by color based on column variable\n",
        "    hue_order = [\"Expected\", \"Choice\"],                                       # reverse the order of categories: expected then choice\n",
        "    errorbar = \"se\")                                                          # set our errorbars to be standard error (se)\n",
        "\n",
        "# Adjustment + aesthetics of plot\n",
        "sp.figure.set_size_inches(6.5, 4.5)                                           # this sets the size and we will use to be consistent across all plots below\n",
        "sns.despine()                                                                 # remove top and right axes (w/o this, full box border)\n",
        "plt.xlabel(x_label_name)                                                      # use matplotlib (plt) to adjust the x axis on this one\n",
        "plt.xticks(ticks=plt.xticks()[0], labels=[\"CS Plus\", \"CS Minus\"])             # adjust labels by removing _ in original name\n",
        "plt.ylabel(y_label_name)                                                      # use matplotlib (plt) to adjust the y axis on this one\n",
        "plt.title(plot_title, y=1.05)                                                 # add a title so we know what we plotted!\n",
        "plt.ylim(0,1)                                                                 # use matplotlib (plt) to adjust the y axis limits\n",
        "plt.axhline(y=0.5, linestyle=\"dotted\", color=\"black\", linewidth=1.5);         # add a line to indicate chance level\n",
        "\n",
        "# Save our figure\n",
        "plt.savefig(fig_name_barplot, dpi=300, bbox_inches=\"tight\")"
      ],
      "metadata": {
        "id": "tAvm1gieHddC"
      },
      "execution_count": null,
      "outputs": []
    },
    {
      "cell_type": "markdown",
      "source": [
        "# Part 2: Color Test 🔴 🟦 🟢 🟧\n",
        "<a name=\"part2\"></a>\n",
        "\n",
        "You also chose different colored paper to conduct a test trial during part 2. I saved that data in a separate excel sheet. We will import that file here, just like we did above for part 1."
      ],
      "metadata": {
        "id": "3vQDaLV98flj"
      }
    },
    {
      "cell_type": "code",
      "source": [
        "#@title Task\n",
        "from IPython.display import HTML\n",
        "\n",
        "alert_info = '''\n",
        "<div style=\"font-size: 20px;\" class=\"alert alert-info\" role=\"alert\">\n",
        "  <h4 class=\"alert-heading\">Task</h4>\n",
        "  Run the cells below to import and view the data.\n",
        "</div>\n",
        "'''\n",
        "\n",
        "display(HTML('<link href=\"https://nbviewer.org/static/build/styles.css\" rel=\"stylesheet\">'))\n",
        "display(HTML(alert_info))"
      ],
      "metadata": {
        "colab": {
          "base_uri": "https://localhost:8080/",
          "height": 200
        },
        "cellView": "form",
        "id": "FYuqAEmTNSnI",
        "outputId": "a0d4e6d6-5b2f-43f8-ac56-22aca3539529"
      },
      "execution_count": null,
      "outputs": [
        {
          "output_type": "display_data",
          "data": {
            "text/plain": [
              "<IPython.core.display.HTML object>"
            ],
            "text/html": [
              "<link href=\"https://nbviewer.org/static/build/styles.css\" rel=\"stylesheet\">"
            ]
          },
          "metadata": {}
        },
        {
          "output_type": "display_data",
          "data": {
            "text/plain": [
              "<IPython.core.display.HTML object>"
            ],
            "text/html": [
              "\n",
              "<div style=\"font-size: 20px;\" class=\"alert alert-info\" role=\"alert\">\n",
              "  <h4 class=\"alert-heading\">Task</h4>\n",
              "  Run the cells below to import and view the data.\n",
              "</div>\n"
            ]
          },
          "metadata": {}
        }
      ]
    },
    {
      "cell_type": "code",
      "source": [
        "!wget --no-check-certificate 'https://docs.google.com/uc?export=download&id=13sz7WCLjGz7rk7LeYfqoGAic_DYwUisP' -O BeeLab_LearningBehavior_Part2.xlsx"
      ],
      "metadata": {
        "id": "IlXkkaUI6AH7"
      },
      "execution_count": null,
      "outputs": []
    },
    {
      "cell_type": "code",
      "source": [
        "### RUN THIS CELL ###\n",
        "## Import file\n",
        "\n",
        "part2 = pd.read_excel('BeeLab_LearningBehavior_Part2.xlsx')\n",
        "print('data imported!')"
      ],
      "metadata": {
        "id": "wfySXXLR6F1I"
      },
      "execution_count": null,
      "outputs": []
    },
    {
      "cell_type": "code",
      "source": [
        "### RUN THIS CELL ###\n",
        "## Type the name of the dataframe to view it\n",
        "\n",
        "part2"
      ],
      "metadata": {
        "id": "FpJnJa9B6JVq"
      },
      "execution_count": null,
      "outputs": []
    },
    {
      "cell_type": "code",
      "source": [
        "### RUN THIS CELL ###\n",
        "## Another quick preview of variables\n",
        "\n",
        "part2.info()"
      ],
      "metadata": {
        "id": "uojgss8zNjLp"
      },
      "execution_count": null,
      "outputs": []
    },
    {
      "cell_type": "markdown",
      "source": [
        "What does this tell us? Here, we actually have some missing data. You can see that there are NaN values in the **Unsucessful** column.<br>\n",
        "Let's see what happens if we leave the data this way and continue on to make a plot."
      ],
      "metadata": {
        "id": "SLdKRbe1yN7E"
      }
    },
    {
      "cell_type": "code",
      "source": [
        "#@title Task\n",
        "from IPython.display import HTML\n",
        "\n",
        "alert_info = '''\n",
        "<div style=\"font-size: 20px;\" class=\"alert alert-info\" role=\"alert\">\n",
        "  <h4 class=\"alert-heading\">Task</h4>\n",
        "   Run the following cell to transform the data into long format.<br>\n",
        "   You don't need to know the details, but feel free to show the code if you are interested.\n",
        "</div>\n",
        "'''\n",
        "\n",
        "display(HTML('<link href=\"https://nbviewer.org/static/build/styles.css\" rel=\"stylesheet\">'))\n",
        "display(HTML(alert_info))"
      ],
      "metadata": {
        "colab": {
          "base_uri": "https://localhost:8080/",
          "height": 229
        },
        "cellView": "form",
        "id": "_1IvJ47BRLqb",
        "outputId": "291fd80c-53ac-4952-bce0-a81d38899e34"
      },
      "execution_count": null,
      "outputs": [
        {
          "output_type": "display_data",
          "data": {
            "text/plain": [
              "<IPython.core.display.HTML object>"
            ],
            "text/html": [
              "<link href=\"https://nbviewer.org/static/build/styles.css\" rel=\"stylesheet\">"
            ]
          },
          "metadata": {}
        },
        {
          "output_type": "display_data",
          "data": {
            "text/plain": [
              "<IPython.core.display.HTML object>"
            ],
            "text/html": [
              "\n",
              "<div style=\"font-size: 20px;\" class=\"alert alert-info\" role=\"alert\">\n",
              "  <h4 class=\"alert-heading\">Task</h4>\n",
              "   Run the following cell to transform the data into long format.<br>\n",
              "   You don't need to know the details, but feel free to show the code if you are interested.\n",
              "</div>\n"
            ]
          },
          "metadata": {}
        }
      ]
    },
    {
      "cell_type": "code",
      "source": [
        "#@title Just run this cell- hidden code\n",
        "## Convert to long format\n",
        "\n",
        "part2_long = part2.melt(var_name=\"Result\", value_name=\"Value\")\n",
        "part2_long"
      ],
      "metadata": {
        "id": "PtB3yPOQx9NW",
        "cellView": "form"
      },
      "execution_count": null,
      "outputs": []
    },
    {
      "cell_type": "markdown",
      "source": [
        "Let's try a few things with our data. What happens if we plot the data from the dataframe above?"
      ],
      "metadata": {
        "id": "0co4Xk_fyZnY"
      }
    },
    {
      "cell_type": "code",
      "source": [
        "### RUN THIS CELL ###\n",
        "# Example of a count plot\n",
        "sns.countplot(                                                               # plotting option to use in seaborn- let's try a different one than barplot\n",
        "    data = part2_long,                                                       # dataframe\n",
        "    x = \"Result\",                                                            # column name to use values for x-axis\n",
        "    hue = \"Result\",                                                          # group the values by color based on column variable\n",
        "    palette = \"Blues\");                                                      # set our color palette"
      ],
      "metadata": {
        "id": "BxuzSjqiyfaY"
      },
      "execution_count": null,
      "outputs": []
    },
    {
      "cell_type": "markdown",
      "source": [
        "We should remove the NaNs before plotting. Let's try using AI built into this notebook to help us. We will start by showing ourselves the original dataframe and seeing what options come up to work with this data automatically. <br>\n",
        "Let's try the 'Generate code with part2_long' option <br>\n",
        "\n",
        "<img src=\"https://github.com/tmckim/NS479_NeuroTechniquesLab/blob/main/imgs/ColabAI.png?raw=1\"/>"
      ],
      "metadata": {
        "id": "vmWspa3Czv5r"
      }
    },
    {
      "cell_type": "code",
      "source": [
        "part2_long"
      ],
      "metadata": {
        "id": "gC3jkeKxRixY"
      },
      "execution_count": null,
      "outputs": []
    },
    {
      "cell_type": "code",
      "source": [
        "#@title Hidden Solution Example\n",
        "\n",
        "part2_long_cleaned = part2_long.dropna(subset = [\"Value\", \"Result\"])\n",
        "part2_long_cleaned"
      ],
      "metadata": {
        "cellView": "form",
        "id": "95V8f8LJzgsL"
      },
      "execution_count": null,
      "outputs": []
    },
    {
      "cell_type": "code",
      "source": [
        "part2_long_cleaned"
      ],
      "metadata": {
        "id": "gi7i8xwx15NP"
      },
      "execution_count": null,
      "outputs": []
    },
    {
      "cell_type": "markdown",
      "source": [
        "Now that we have removed NaNs, let's make a beautified 💄 version of our original plot."
      ],
      "metadata": {
        "id": "bUxi4bD21dcn"
      }
    },
    {
      "cell_type": "code",
      "source": [
        "### RUN THIS CELL ###\n",
        "\n",
        "# Set this text for the plot- easiest to edit here as needed\n",
        "x_label_name = \"Result\"                                                       # x-axis label text\n",
        "y_label_name = \"Count\"                                                        # y-axis label text\n",
        "plot_title = \"Comparison of Successful vs. Unsuccessful Results\"              # plot title text\n",
        "fig_name_barplot2 = \"BarPlot_Part2.png\"                                       # name for file when saving\n",
        "\n",
        "# Example of a count plot\n",
        "bp = sns.countplot(\n",
        "        data = part2_long_cleaned,                                            # **Note the name of the updated df here**\n",
        "        x = \"Result\",                                                         # column name to use values for x-axis\n",
        "        hue = \"Result\",                                                       # group the values by color based on column variable\n",
        "        palette = \"YlGnBu\")                                                   # set our color palette\n",
        "\n",
        "# Adjustment + aesthetics of plot\n",
        "bp.figure.set_size_inches(6.5, 4.5)                                           # this sets the size and we will use to be consistent across all plots below\n",
        "sns.despine()                                                                 # remove top and right axes (w/o this, full box border)\n",
        "plt.xlabel(x_label_name)                                                      # use matplotlib (plt) to adjust the x axis on this one\n",
        "plt.ylabel(y_label_name)                                                      # use matplotlib (plt) to adjust the y axis on this one\n",
        "plt.title(plot_title, y=1.05)                                                 # add a title so we know what we plotted!\n",
        "plt.ylim(0,10)                                                                # use matplotlib (plt) to adjust the y axis limits\n",
        "\n",
        "# Save our figure\n",
        "plt.savefig(fig_name_barplot2, dpi=300, bbox_inches=\"tight\")"
      ],
      "metadata": {
        "id": "SY4BBpnx70DE"
      },
      "execution_count": null,
      "outputs": []
    },
    {
      "cell_type": "markdown",
      "source": [
        "# Part 3: Training 🍭 🧂\n",
        "<a name=\"training\"></a>\n",
        "\n",
        "Let's look at an example of the an individual bee and their training + part 1 test behavior. I just made this data up, but imagine if you took the data from your data sheet and put this into excel. We could also do this for everyon's bee to compare how they differed.<br>\n",
        "The point is, there is usually variability in behavior. It is a good thing to look for in your data."
      ],
      "metadata": {
        "id": "-pWh-PFJUbPc"
      }
    },
    {
      "cell_type": "code",
      "source": [
        "### RUN THIS CELL ###\n",
        "\n",
        "!wget --no-check-certificate 'https://docs.google.com/uc?export=download&id=14EzQCZrVSplvAJgFDIvlvWE-dCJ1VVVE' -O BeeLab_LearningBehavior_Training.xlsx"
      ],
      "metadata": {
        "id": "rGLzNtgcUa1E"
      },
      "execution_count": null,
      "outputs": []
    },
    {
      "cell_type": "code",
      "source": [
        "### RUN THIS CELL ###\n",
        "## Import file - pull in Sheet2 with data already in long format\n",
        "\n",
        "training_long = pd.read_excel('BeeLab_LearningBehavior_Training.xlsx', sheet_name = \"Sheet2\")\n",
        "print('data imported!')"
      ],
      "metadata": {
        "id": "MLQwRk54WnsW"
      },
      "execution_count": null,
      "outputs": []
    },
    {
      "cell_type": "markdown",
      "source": [
        "Here you can see I already reformatted the data into long format in excel itself."
      ],
      "metadata": {
        "id": "6YZpAnH434yT"
      }
    },
    {
      "cell_type": "code",
      "source": [
        "### RUN THIS CELL ###\n",
        "\n",
        "training_long"
      ],
      "metadata": {
        "id": "F9LQhnc4W1uQ"
      },
      "execution_count": null,
      "outputs": []
    },
    {
      "cell_type": "code",
      "source": [
        "### RUN THIS CELL ###\n",
        "\n",
        "# Set this text for the plot- easiest to edit here as needed\n",
        "plot_title = \"Training Behavior Over Time\"                                    # plot title text\n",
        "fig_name_catplot = \"CatPlot_Training.png\"                                     # name for file when saving\n",
        "\n",
        "# Draw a pointplot to show training behavior over time, dependent upon CS Type\n",
        "g = sns.catplot(                                                              # type of plot in seaborn\n",
        "    data = training_long,                                                     # dataframe\n",
        "    x = \"Trial\",                                                              # column name to use values for x-axis\n",
        "    y = \"Value\",                                                              # column name to use values for y-axis\n",
        "    hue = \"Training_Phase\",                                                   # group the values by color based on column variable\n",
        "    col = \"CS_Type\",                                                          # plot the values in separate cols based on column variable\n",
        "    capsize = .2,                                                             # dot size\n",
        "    palette = \"viridis\",                                                      # set our color palette\n",
        "    kind = \"point\",                                                           # plot data as dots\n",
        "    height = 3,                                                               # height of plot\n",
        "    aspect = .75)                                                             # width of plot\n",
        "\n",
        "# Adjustment + aesthetics of plot\n",
        "g.set(yticks=[0, 1])                                                          # set y-axis ticks to only show 0 and 1\n",
        "g.set_titles(col_template=\"{col_name}\")                                       # set the titles of each column\n",
        "g.set_ylabels(\"Chosen\");                                                      # change y-label name\n",
        "g.fig.suptitle(plot_title, y=1.1)                                             # move the title up\n",
        "\n",
        "# Save our figure\n",
        "plt.savefig(fig_name_catplot, dpi=300, bbox_inches=\"tight\")"
      ],
      "metadata": {
        "id": "bYeULLy-W5wZ"
      },
      "execution_count": null,
      "outputs": []
    },
    {
      "cell_type": "markdown",
      "source": [
        "We could instead separate out by training phase. Note that if the Chosen results overlap (as in Training Phase 2), you can't see all of the data!"
      ],
      "metadata": {
        "id": "cqVQdTk74li_"
      }
    },
    {
      "cell_type": "code",
      "source": [
        "### RUN THIS CELL ###\n",
        "\n",
        "# Set this text for the plot- easiest to edit here as needed\n",
        "plot_title = \"Training Behavior Over Time\"                                    # plot title text\n",
        "fig_name_catplot2 = \"CatPlot_Training2.png\"                                   # name for file when saving\n",
        "\n",
        "\n",
        "# Draw a pointplot to show training behavior over time, dependent upon training phase\n",
        "g = sns.catplot(                                                              # type of plot in seaborn\n",
        "    data = training_long,                                                     # dataframe\n",
        "    x = \"Trial\",                                                              # column name to use values for x-axis\n",
        "    y = \"Value\",                                                              # column name to use values for y-axis\n",
        "    hue = \"CS_Type\",                                                          # group the values by color based on column variable\n",
        "    col = \"Training_Phase\",                                                   # plot the values in separate cols based on column variable\n",
        "    capsize = .2,                                                             # dot size\n",
        "    palette = \"colorblind\",                                                   # set our color palette\n",
        "    kind = \"point\",                                                           # plot data as dots\n",
        "    height = 3,                                                               # height of plot\n",
        "    aspect = .75)                                                             # width of plot\n",
        "\n",
        "# Adjustment + aesthetics of plot\n",
        "g.set(yticks=[0, 1])                                                          # set y-axis ticks to only show 0 and 1\n",
        "g.set_titles(col_template=\"Training Phase {col_name}\")                        # set the titles of each column\n",
        "g.set_ylabels(\"Chosen\");                                                      # change y-label name\n",
        "g.fig.suptitle(plot_title, y=1.1)                                             # move the title up\n",
        "\n",
        "# Save our figure\n",
        "plt.savefig(fig_name_catplot2, dpi=300, bbox_inches=\"tight\")"
      ],
      "metadata": {
        "id": "hTQ_rfzHVIBE"
      },
      "execution_count": null,
      "outputs": []
    },
    {
      "cell_type": "markdown",
      "source": [
        "We could also convert the 0 and 1 Result column to a column with `Yes` and `No` as categorical instead."
      ],
      "metadata": {
        "id": "PZTGETYt6V3f"
      }
    },
    {
      "cell_type": "code",
      "source": [
        "### RUN THIS CELL ###\n",
        "\n",
        "# Convert numerical to categorical labels\n",
        "training_long['Binary'] = training_long['Value'].map({1: 'Yes', 0: 'No'})\n",
        "training_long"
      ],
      "metadata": {
        "id": "4r-PHotFZqZY"
      },
      "execution_count": null,
      "outputs": []
    },
    {
      "cell_type": "code",
      "source": [
        "### RUN THIS CELL ###\n",
        "\n",
        "# Set this text for the plot- easiest to edit here as needed\n",
        "plot_title = \"Training Behavior Over Time\"                                    # plot title text\n",
        "fig_name_stripplot = \"StripPlot_Training.png\"                                 # name for file when saving\n",
        "\n",
        "# Draw a stripplot to show training behavior over time, dependent upon training phase\n",
        "g = sns.catplot(                                                              # type of plot in seaborn\n",
        "    data = training_long,                                                     # dataframe\n",
        "    x = \"Trial\",                                                              # column name to use values for x-axis\n",
        "    y = \"Binary\",                                                             # column name to use values for y-axis\n",
        "    hue = \"Training_Phase\",                                                   # group the values by color based on column variable\n",
        "    col = \"CS_Type\",                                                          # plot the values in separate cols based on column variable\n",
        "    palette = \"viridis\",                                                      # set our color palette\n",
        "    kind = \"strip\",                                                           # plot data as dots\n",
        "    height = 3,                                                               # height of plot\n",
        "    aspect = .75,                                                             # width of plot\n",
        "    marker = \"o\",                                                             # dot shape\n",
        "    **{\"s\": 100, \"jitter\": False});                                           # dot size & remove jitter\n",
        "\n",
        "# Adjustment + aesthetics of plot\n",
        "g.set_titles(col_template=\"{col_name}\")                                       # set the titles of each column\n",
        "g.set_ylabels(\"Chosen\");                                                      # change y-label name\n",
        "g.fig.suptitle(plot_title, y=1.1)                                             # move the title up\n",
        "g.set(xticks=sorted(training_long[\"Trial\"].unique()))                         # show all x-axis values\n",
        "\n",
        "# Save our figure\n",
        "plt.savefig(fig_name_stripplot, dpi=300, bbox_inches=\"tight\")"
      ],
      "metadata": {
        "id": "jx166Src5vKS"
      },
      "execution_count": null,
      "outputs": []
    },
    {
      "cell_type": "markdown",
      "source": [
        "---\n",
        "# Red Light Reaction 🚨 :  Driving App 🚗\n",
        "<a name=\"red-light\"></a>"
      ],
      "metadata": {
        "id": "TkoWCDGpBw7_"
      }
    },
    {
      "cell_type": "markdown",
      "source": [
        "# Learning Objectives 🧠\n",
        "<a name=\"LOs-drive\"></a>\n",
        "\n",
        "* Estimate how fast participants apply the car brake after seeing the red lights flash from the car ahead\n",
        "* Conduct statistical tests of reaction time across trials"
      ],
      "metadata": {
        "id": "ltM-hVeNCjjY"
      }
    },
    {
      "cell_type": "markdown",
      "source": [
        "<img src=\"https://github.com/tmckim/NS479_NeuroTechniquesLab/blob/main/imgs/DrivingAppExample.png?raw=1\"/>"
      ],
      "metadata": {
        "id": "Z6bucaj_DcMQ"
      }
    },
    {
      "cell_type": "markdown",
      "source": [
        "---\n",
        "### Instructions\n",
        "<a name=\"instructs\"></a>\n",
        "\n",
        "Briefly, you will click the 'Start' button. After some time, the brake lights on the car will turn from green to red.\n",
        "* Your goal is to respond when you see the lights turn red\n",
        "* Push the 'Brake' button at that time\n",
        "* A reaction time (secs) will be shown\n",
        "<br><br>\n",
        "\n",
        "Enter that time - just the number - into the class google sheet\n",
        "<br><br>\n",
        "\n",
        "Example: if the app displays Time = 0.42 sec, then you would just enter the 0.42 as the time.\n",
        "<br><br>\n",
        "Please enter the time **correctly and honestly**, as otherwise our data cannot be used to obtain valid conclusions.\n",
        "<br><br>\n",
        "^Repeat the above steps for App 2\n",
        "\n",
        "---"
      ],
      "metadata": {
        "id": "Ig51iFpaDdai"
      }
    },
    {
      "cell_type": "markdown",
      "source": [
        "### Online Driving App & Google Sheet\n",
        "<a name=\"drive-app\"></a>\n",
        "\n",
        "Online driving app: https://www.geogebra.org/m/pjrTeAVT#material/uxXR2fmq\n",
        "\n",
        "Class google sheet: https://docs.google.com/spreadsheets/d/1_K1kc9Obhi3xtsHF58PiAU0tcHqJRdZ7A446yOphPds/edit?usp=sharing\n",
        "\n",
        "- Enter data in first tab called **Raw Data**"
      ],
      "metadata": {
        "id": "2LuGHFUKEgJv"
      }
    },
    {
      "cell_type": "markdown",
      "source": [
        "---\n",
        "# Past Driving Example Data\n",
        "<a name=\"drive-data-examp\"></a>"
      ],
      "metadata": {
        "id": "l5bNA_-rE8iZ"
      }
    },
    {
      "cell_type": "code",
      "source": [
        "#@title Task\n",
        "from IPython.display import HTML\n",
        "\n",
        "alert_info = '''\n",
        "<div style=\"font-size: 20px;\" class=\"alert alert-info\" role=\"alert\">\n",
        "  <h4 class=\"alert-heading\">Task</h4>\n",
        "  Run the cells below to import and view the data.\n",
        "</div>\n",
        "'''\n",
        "\n",
        "display(HTML('<link href=\"https://nbviewer.org/static/build/styles.css\" rel=\"stylesheet\">'))\n",
        "display(HTML(alert_info))"
      ],
      "metadata": {
        "cellView": "form",
        "colab": {
          "base_uri": "https://localhost:8080/",
          "height": 200
        },
        "id": "L4YZTqWPb6d0",
        "outputId": "65682e91-86de-4896-a035-a18229da4f72"
      },
      "execution_count": null,
      "outputs": [
        {
          "output_type": "display_data",
          "data": {
            "text/plain": [
              "<IPython.core.display.HTML object>"
            ],
            "text/html": [
              "<link href=\"https://nbviewer.org/static/build/styles.css\" rel=\"stylesheet\">"
            ]
          },
          "metadata": {}
        },
        {
          "output_type": "display_data",
          "data": {
            "text/plain": [
              "<IPython.core.display.HTML object>"
            ],
            "text/html": [
              "\n",
              "<div style=\"font-size: 20px;\" class=\"alert alert-info\" role=\"alert\">\n",
              "  <h4 class=\"alert-heading\">Task</h4>\n",
              "  Run the cells below to import and view the data.\n",
              "</div>\n"
            ]
          },
          "metadata": {}
        }
      ]
    },
    {
      "cell_type": "code",
      "source": [
        "### RUN THIS CELL ###\n",
        "\n",
        "!wget --no-check-certificate 'https://docs.google.com/uc?export=download&id=1NWe8JsfRbOMFATIH0JiUMY4SMvyg4q_6' -O RedLightReaction_DataSet_WithoutInvalidData.xlsx"
      ],
      "metadata": {
        "id": "GCiw8cjUVLj-"
      },
      "execution_count": null,
      "outputs": []
    },
    {
      "cell_type": "code",
      "source": [
        "### RUN THIS CELL ###\n",
        "## Import file\n",
        "\n",
        "messy_driving = pd.read_excel('RedLightReaction_DataSet_WithoutInvalidData.xlsx')\n",
        "print('data imported!')"
      ],
      "metadata": {
        "id": "mV8AvCTWV7Lz",
        "collapsed": true
      },
      "execution_count": null,
      "outputs": []
    },
    {
      "cell_type": "code",
      "source": [
        "### RUN THIS CELL ###\n",
        "\n",
        "messy_driving.describe()"
      ],
      "metadata": {
        "id": "_bkpEd10V_IG"
      },
      "execution_count": null,
      "outputs": []
    },
    {
      "cell_type": "code",
      "source": [
        "#@title Task\n",
        "from IPython.display import HTML\n",
        "\n",
        "alert_info = '''\n",
        "<div style=\"font-size: 20px;\" class=\"alert alert-info\" role=\"alert\">\n",
        "  <h4 class=\"alert-heading\">Task</h4>\n",
        "   Run the following cell to transform the data into long format.<br>\n",
        "   You don't need to know the details, but feel free to show the code if you are interested.\n",
        "</div>\n",
        "'''\n",
        "\n",
        "display(HTML('<link href=\"https://nbviewer.org/static/build/styles.css\" rel=\"stylesheet\">'))\n",
        "display(HTML(alert_info))"
      ],
      "metadata": {
        "colab": {
          "base_uri": "https://localhost:8080/",
          "height": 229
        },
        "cellView": "form",
        "id": "mabQw45Bbv8h",
        "outputId": "edef6dce-966f-4708-96c2-a48423494458"
      },
      "execution_count": null,
      "outputs": [
        {
          "output_type": "display_data",
          "data": {
            "text/plain": [
              "<IPython.core.display.HTML object>"
            ],
            "text/html": [
              "<link href=\"https://nbviewer.org/static/build/styles.css\" rel=\"stylesheet\">"
            ]
          },
          "metadata": {}
        },
        {
          "output_type": "display_data",
          "data": {
            "text/plain": [
              "<IPython.core.display.HTML object>"
            ],
            "text/html": [
              "\n",
              "<div style=\"font-size: 20px;\" class=\"alert alert-info\" role=\"alert\">\n",
              "  <h4 class=\"alert-heading\">Task</h4>\n",
              "   Run the following cell to transform the data into long format.<br>\n",
              "   You don't need to know the details, but feel free to show the code if you are interested.\n",
              "</div>\n"
            ]
          },
          "metadata": {}
        }
      ]
    },
    {
      "cell_type": "code",
      "source": [
        "#@title Just run this cell - hidden code\n",
        "messy_driving = messy_driving.drop(\"Participant\", axis=1)\n",
        "messy_driving_long = messy_driving.melt(var_name = \"Condition\", value_name = \"Reaction Time\")\n",
        "messy_driving_long"
      ],
      "metadata": {
        "id": "PszSLZhWWWgF",
        "cellView": "form"
      },
      "execution_count": null,
      "outputs": []
    },
    {
      "cell_type": "code",
      "source": [
        "### RUN THIS CELL ###\n",
        "\n",
        "# Set this text for the plot- easiest to edit here as needed\n",
        "x_label_name = \"Condition\"                                                    # x-axis label text\n",
        "y_label_name = \"Reaction Time (s)\"                                            # y-axis label text\n",
        "plot_title = \"Reaction Times for Different Conditions\"                        # plot title text\n",
        "fig_name_boxplot = \"Boxplot_AllData_Driving.png\"                              # name for file when saving\n",
        "\n",
        "# Example of a  boxplot\n",
        "bp = sns.boxplot(\n",
        "        data = messy_driving_long,                                            # **Note the name of the df here**\n",
        "        x = \"Condition\",                                                      # column name to use values for x-axis\n",
        "        y = \"Reaction Time\",                                                  # column name to use values for y-axis\n",
        "        width = 0.3)                                                          # box width\n",
        "\n",
        "# Adjustment + aesthetics of plot\n",
        "bp.figure.set_size_inches(6.5, 4.5)                                           # this sets the size and we will use to be consistent across all plots below\n",
        "sns.despine()                                                                 # remove top and right axes (w/o this, full box border)\n",
        "plt.xlabel(x_label_name)                                                      # use matplotlib (plt) to adjust the x axis on this one\n",
        "plt.ylabel(y_label_name)                                                      # use matplotlib (plt) to adjust the y axis on this one\n",
        "plt.title(plot_title, y=1.05)                                                 # add a title so we know what we plotted!\n",
        "plt.ylim(0,8)                                                                 # use matplotlib (plt) to adjust the y axis limits\n",
        "\n",
        "# Save our figure\n",
        "plt.savefig(fig_name_boxplot, dpi=300, bbox_inches=\"tight\")"
      ],
      "metadata": {
        "id": "Tl6UL16VWLe7"
      },
      "execution_count": null,
      "outputs": []
    },
    {
      "cell_type": "markdown",
      "source": [
        "---\n",
        "\n",
        "<img src=\"https://www.simplypsychology.org/wp-content/uploads/box-whisker-plot.jpg\"/>\n",
        "\n",
        "[Source](https://www.simplypsychology.org/boxplots.html)\n",
        "\n",
        "\n",
        "---"
      ],
      "metadata": {
        "id": "aE3LKC3wvlOa"
      }
    },
    {
      "cell_type": "markdown",
      "source": [
        "## Outliers\n",
        "<a name=\"outliers\"></a>\n",
        "\n",
        "Let's check for any outliers in the data"
      ],
      "metadata": {
        "id": "dAHZg7v4cciO"
      }
    },
    {
      "cell_type": "markdown",
      "source": [
        "### Applet 1\n",
        "\n",
        "<a name=\"app1-out\"></a>"
      ],
      "metadata": {
        "id": "fc0oIYxhcyR9"
      }
    },
    {
      "cell_type": "code",
      "source": [
        "### RUN THIS CELL ###\n",
        "# Checking outliers per condition - Applet 1\n",
        "\n",
        "# Compute Q1 (25th percentile) and Q3 (75th percentile)\n",
        "Q1_app1 = np.percentile(messy_driving['Applet 1'], 25)\n",
        "Q3_app1 = np.percentile(messy_driving['Applet 1'], 75)\n",
        "IQR_app1 = Q3_app1 - Q1_app1\n",
        "\n",
        "# Define lower and upper bounds for outliers\n",
        "lower_bound_app1 = Q1_app1 - 1.5 * IQR_app1\n",
        "upper_bound_app1 = Q3_app1 + 1.5 * IQR_app1\n",
        "\n",
        "# print these numbers so we can see them\n",
        "print('Applet 1 calcs')\n",
        "print('Q1 value:', Q1_app1)\n",
        "print('Q3 value:', Q3_app1)\n",
        "print('IQR value:', IQR_app1)\n",
        "print('Lower bound:', lower_bound_app1)\n",
        "print('Upper bound:', upper_bound_app1)\n",
        "\n",
        "# Identify outliers\n",
        "outliers = messy_driving[(messy_driving['Applet 1'] < lower_bound_app1) | (messy_driving['Applet 1'] > upper_bound_app1)]\n",
        "outliers"
      ],
      "metadata": {
        "id": "eXv4zOwucwZI"
      },
      "execution_count": null,
      "outputs": []
    },
    {
      "cell_type": "markdown",
      "source": [
        "### Applet 2\n",
        "<a name=\"app1-out\"></a>"
      ],
      "metadata": {
        "id": "l2DS3d9Kr8bn"
      }
    },
    {
      "cell_type": "code",
      "source": [
        "### RUN THIS CELL ###\n",
        "# Checking outliers per condition - Applet 2\n",
        "\n",
        "# Compute Q1 (25th percentile) and Q3 (75th percentile)\n",
        "Q1_app2 = np.percentile(messy_driving['Applet 2'], 25)\n",
        "Q3_app2 = np.percentile(messy_driving['Applet 2'], 75)\n",
        "IQR_app2 = Q3_app2 - Q1_app2\n",
        "\n",
        "# Define lower and upper bounds for outliers\n",
        "lower_bound_app2 = Q1_app2 - 1.5 * IQR_app2\n",
        "upper_bound_app2 = Q3_app2 + 1.5 * IQR_app2\n",
        "\n",
        "# print these numbers so we can see them\n",
        "print('Applet 2 calcs')\n",
        "print('Q1 value:', Q1_app2)\n",
        "print('Q3 value:', Q3_app2)\n",
        "print('IQR value:', IQR_app2)\n",
        "print('Lower bound:', lower_bound_app2)\n",
        "print('Upper bound:', upper_bound_app2)\n",
        "\n",
        "# Identify outliers\n",
        "outliers2 = messy_driving[(messy_driving['Applet 2'] < lower_bound_app2) | (messy_driving['Applet 2'] > upper_bound_app2)]\n",
        "outliers2"
      ],
      "metadata": {
        "id": "asU-x0Ofdcqh"
      },
      "execution_count": null,
      "outputs": []
    },
    {
      "cell_type": "markdown",
      "source": [
        "Now we will remove these rows from the dataframe. Check that the output has 8 less rows (originally: 81 - 8 = 73 without app 1 outlier)"
      ],
      "metadata": {
        "id": "MU7GB-mldr5S"
      }
    },
    {
      "cell_type": "code",
      "source": [
        "### RUN THIS CELL ###\n",
        "\n",
        "app1_driving = messy_driving.drop(messy_driving[(messy_driving['Applet 1'] < lower_bound_app1) | (messy_driving['Applet 1'] > upper_bound_app1)].index)\n",
        "app1_driving"
      ],
      "metadata": {
        "id": "RKlSuDc3drht"
      },
      "execution_count": null,
      "outputs": []
    },
    {
      "cell_type": "markdown",
      "source": [
        "Double check the appropriate data was removed and there are no outliers in the new dataframe."
      ],
      "metadata": {
        "id": "lX-AhEd7e3l7"
      }
    },
    {
      "cell_type": "code",
      "source": [
        "### RUN THIS CELL ###\n",
        "# Checking outliers per condition - Applet 1\n",
        "\n",
        "# Compute Q1 (25th percentile) and Q3 (75th percentile)\n",
        "Q1_app1 = np.percentile(messy_driving['Applet 1'], 25)\n",
        "Q3_app1 = np.percentile(messy_driving['Applet 1'], 75)\n",
        "IQR_app1 = Q3_app1 - Q1_app1\n",
        "\n",
        "# Define lower and upper bounds for outliers\n",
        "lower_bound_app1 = Q1_app1 - 1.5 * IQR_app1\n",
        "upper_bound_app1 = Q3_app1 + 1.5 * IQR_app1\n",
        "\n",
        "# print these numbers so we can see them\n",
        "print('Applet 1 calcs')\n",
        "print('Q1 value:', Q1_app1)\n",
        "print('Q3 value:', Q3_app1)\n",
        "print('IQR value:', IQR_app1)\n",
        "print('Lower bound:', lower_bound_app1)\n",
        "print('Upper bound:', upper_bound_app1)\n",
        "\n",
        "# Identify outliers\n",
        "outliers_check = app1_driving[(app1_driving['Applet 1'] < lower_bound_app1) | (app1_driving['Applet 1'] > upper_bound_app1)]\n",
        "outliers_check"
      ],
      "metadata": {
        "id": "ArAzqQoRer8T"
      },
      "execution_count": null,
      "outputs": []
    },
    {
      "cell_type": "markdown",
      "source": [
        "Now we will remove the Applet 2 outliers. We will use similar code, but need to make sure we use the most recent dataframe `app1_driving` we created above instead of the orignal.<br>\n",
        "We should only remove 1 row."
      ],
      "metadata": {
        "id": "b6zF6RSRe8vF"
      }
    },
    {
      "cell_type": "code",
      "source": [
        "### RUN THIS CELL ###\n",
        "\n",
        "driving_clean = app1_driving.drop(app1_driving[(app1_driving['Applet 2'] < lower_bound_app2) | (app1_driving['Applet 2'] > upper_bound_app2)].index)\n",
        "driving_clean"
      ],
      "metadata": {
        "id": "HW7N6nk3fB_H"
      },
      "execution_count": null,
      "outputs": []
    },
    {
      "cell_type": "markdown",
      "source": [
        "Double check the appropriate data was removed and there are no outliers in the new dataframe."
      ],
      "metadata": {
        "id": "bk4KHqiHfWyW"
      }
    },
    {
      "cell_type": "code",
      "source": [
        "### RUN THIS CELL ###\n",
        "# Checking outliers per condition - Applet 2\n",
        "\n",
        "# Compute Q1 (25th percentile) and Q3 (75th percentile)\n",
        "Q1_app2 = np.percentile(messy_driving['Applet 2'], 25)\n",
        "Q3_app2 = np.percentile(messy_driving['Applet 2'], 75)\n",
        "IQR_app2 = Q3_app2 - Q1_app2\n",
        "\n",
        "# Define lower and upper bounds for outliers\n",
        "lower_bound_app2 = Q1_app2 - 1.5 * IQR_app2\n",
        "upper_bound_app2 = Q3_app2 + 1.5 * IQR_app2\n",
        "\n",
        "# print these numbers so we can see them\n",
        "print('Applet 2 calcs')\n",
        "print('Q1 value:', Q1_app2)\n",
        "print('Q3 value:', Q3_app2)\n",
        "print('IQR value:', IQR_app2)\n",
        "print('Lower bound:', lower_bound_app2)\n",
        "print('Upper bound:', upper_bound_app2)\n",
        "\n",
        "# Identify outliers\n",
        "outliers2_check = driving_clean[(driving_clean['Applet 2'] < lower_bound_app2) | (driving_clean['Applet 2'] > upper_bound_app2)]\n",
        "outliers2_check"
      ],
      "metadata": {
        "id": "5qYs1PUXfZ2M"
      },
      "execution_count": null,
      "outputs": []
    },
    {
      "cell_type": "markdown",
      "source": [
        "Here we have more data than above. So if you want to see all the rows in your dataframe, you can change the settings using the code below"
      ],
      "metadata": {
        "id": "A8EPm-JPIFdB"
      }
    },
    {
      "cell_type": "code",
      "source": [
        "### OPTIONAL ###\n",
        "## If you want to see all the columns/rows in the dataset, or a different number\n",
        "# Warning- this may result in alot of scrolling\n",
        "\n",
        "pd.set_option('display.max_columns', None)\n",
        "pd.set_option('display.max_rows', None)"
      ],
      "metadata": {
        "id": "2ADT3kWFIKzb"
      },
      "execution_count": null,
      "outputs": []
    },
    {
      "cell_type": "markdown",
      "source": [
        "If you changed it and you don't like it, you can always change it back to default setting using the code below."
      ],
      "metadata": {
        "id": "A-DlExefIbx3"
      }
    },
    {
      "cell_type": "code",
      "source": [
        "#@title Hidden Reset Code\n",
        "# If that's too many rows, you can always reset back to the default (~10)\n",
        "\n",
        "# Optional:\n",
        "pd.reset_option('display.max_rows')\n",
        "\n",
        "# Optional:\n",
        "pd.set_option('display.max_rows', 20)     # Choose your own number!"
      ],
      "metadata": {
        "cellView": "form",
        "id": "Sg_N1hgBIg4Z"
      },
      "execution_count": null,
      "outputs": []
    },
    {
      "cell_type": "markdown",
      "source": [
        "Let's take a look at our data. Notice that the index numbers now skip over the IDs that we deleted. Let's adjust this."
      ],
      "metadata": {
        "id": "WE9AJXyegcmq"
      }
    },
    {
      "cell_type": "code",
      "source": [
        "### RUN THIS CELL ###\n",
        "\n",
        "driving_clean"
      ],
      "metadata": {
        "id": "zlV5Vfb_gTK-"
      },
      "execution_count": null,
      "outputs": []
    },
    {
      "cell_type": "code",
      "source": [
        "### RUN THIS CELL ###\n",
        "\n",
        "# Reset the index\n",
        "driving_clean.reset_index(drop=True, inplace=True)\n",
        "driving_clean"
      ],
      "metadata": {
        "id": "51xtyJNWgkwq"
      },
      "execution_count": null,
      "outputs": []
    },
    {
      "cell_type": "markdown",
      "source": [
        "Let's start by looking at descriptives of the data."
      ],
      "metadata": {
        "id": "R6Ep14GQInTa"
      }
    },
    {
      "cell_type": "code",
      "source": [
        "### RUN THIS CELL ###\n",
        "\n",
        "driving_clean.describe()          # only do this for cols with numbers, first col omitted"
      ],
      "metadata": {
        "id": "LrDKJtXoIqpU"
      },
      "execution_count": null,
      "outputs": []
    },
    {
      "cell_type": "markdown",
      "source": [
        "Do we have any NaNs?"
      ],
      "metadata": {
        "id": "Y3TV2yU8I2kH"
      }
    },
    {
      "cell_type": "code",
      "source": [
        "### RUN THIS CELL ###\n",
        "\n",
        "driving_clean.info()"
      ],
      "metadata": {
        "id": "VFEELP9oIzUT"
      },
      "execution_count": null,
      "outputs": []
    },
    {
      "cell_type": "markdown",
      "source": [
        "## Distribution Check\n",
        "<a name=\"dist\"></a>"
      ],
      "metadata": {
        "id": "kIrATgN_g-14"
      }
    },
    {
      "cell_type": "markdown",
      "source": [
        "Before we run any statistical tests, we should check our distributions. The following code is setup to do this for Applet 1 and Applet 2.<br>\n",
        "Here will we start using our `scipy` stats package, that we imported as `stats` at the beginning."
      ],
      "metadata": {
        "id": "ezT3bYILJb0c"
      }
    },
    {
      "cell_type": "code",
      "source": [
        "### RUN THIS CELL ###\n",
        "\n",
        "# Subselect our samples\n",
        "sample_1 = driving_clean['Applet 1']\n",
        "sample_2 = driving_clean['Applet 2']\n",
        "\n",
        "# Set this text for the plot- easiest to edit here as needed\n",
        "x_label_skew = \"Reaction time (secs)\"                           # x-axis label\n",
        "y_label_skew = \"Frequency (count)\"                              # y-axis label\n",
        "br1 = \"Applet 1\"                                                # reaction time 1\n",
        "br2 = \"Applet 2 \"                                               # reaction time 2\n",
        "plot_title_skew_br1 = br1 + \" Distribution\"                     # combine text for title for plot1\n",
        "plot_title_skew_br2 = br2 + \" Distribution\"                     # combine text for title for plot2\n",
        "\n",
        "# set a theme for consistency and format\n",
        "sns.set_theme(style=\"ticks\", font_scale=1.25)                   # set the theme we want in seaborn (sns) - always start with this\n",
        "\n",
        "# Run the skew test\n",
        "stats_1, pvalue_1 = stats.skewtest(sample_1)                    # this runs the skewtest with the stats package for sample 1\n",
        "stats_2, pvalue_2 = stats.skewtest(sample_2)                    # this runs the skewtest with the stats package for sample 2\n",
        "\n",
        "# Print the p-value of both skew tests\n",
        "print(br1 + ' skew test pvalue: ' + str(pvalue_1))              # This shows us the output of the test: p-value for significance\n",
        "print(br2 + ' skew test pvalue: ' + str(pvalue_2))\n",
        "\n",
        "# Plot our distributions                                        # use plt (matplotlib) to setup plot and aesthetics\n",
        "plt.hist(sample_1)                                              # Start plot for sample 1 (FroL in this case)\n",
        "plt.title(plot_title_skew_br1)                                  # Title of chart\n",
        "plt.xlabel(x_label_skew)                                        # xlabel for this comparison- resting potential\n",
        "plt.ylabel(y_label_skew)                                        # hist plot so this is frequency or count (of cells)\n",
        "plt.show()                                                      # actually show the plot we created (this is important!)\n",
        "plt.hist(sample_2)                                              #### this repeats the above steps, but is adjusted for sample 2 (other brain region)\n",
        "plt.title(plot_title_skew_br2)\n",
        "plt.xlabel(x_label_skew)\n",
        "plt.ylabel(y_label_skew);"
      ],
      "metadata": {
        "id": "oQATp39CJo8x"
      },
      "execution_count": null,
      "outputs": []
    },
    {
      "cell_type": "markdown",
      "source": [
        "Our data our not normally distributed. So, we need to use a nonparametric version of the matched t-test. <br>\n"
      ],
      "metadata": {
        "id": "URihw3_IKFWO"
      }
    },
    {
      "cell_type": "markdown",
      "source": [
        "## Statistical Comparison\n",
        "<a name=\"stats\"></a>\n",
        "This is the [Wilcoxon signed-rank test](https://docs.scipy.org/doc/scipy/reference/generated/scipy.stats.wilcoxon.html).<br>\n",
        "\n",
        "We will test the null hypothesis that two related paired samples come from the same distribution."
      ],
      "metadata": {
        "id": "w3fbxV4QkJN4"
      }
    },
    {
      "cell_type": "code",
      "source": [
        "### RUN THIS CELL ###\n",
        "\n",
        "# Statistical comparison\n",
        "stats.wilcoxon(sample_1, sample_2)"
      ],
      "metadata": {
        "id": "KTDBx7kJKduZ"
      },
      "execution_count": null,
      "outputs": []
    },
    {
      "cell_type": "markdown",
      "source": [
        "We should get the median values for each so we can report that below with our statistical result."
      ],
      "metadata": {
        "id": "rMI7pQbnNa1F"
      }
    },
    {
      "cell_type": "code",
      "source": [
        "### RUN THIS CELL ###\n",
        "\n",
        "# Find median using numpy (np) package\n",
        "app1_median = np.median(sample_1)\n",
        "app2_median = np.median(sample_2)\n",
        "\n",
        "print('Applet 1 Median: ' + str(app1_median))\n",
        "print('Applet 2 Median: ' + str(app2_median))"
      ],
      "metadata": {
        "id": "_a3BarTHNfEj"
      },
      "execution_count": null,
      "outputs": []
    },
    {
      "cell_type": "markdown",
      "source": [
        "## Results interpretation:\n",
        "\n",
        "<a name=\"results-interp\"></a>\n",
        "\n",
        "A Wilcoxon signed-rank test indicated that the median reaction times for driving with distraction (Mdn = 0.64 sec) were significantly slower than driving without distraction (Mdn = 0.41 sec), Z = 248.5, p<0.05."
      ],
      "metadata": {
        "id": "XEdcjUUfK5QX"
      }
    },
    {
      "cell_type": "markdown",
      "source": [
        "## Plotting\n",
        "<a name=\"plotting-results\"></a>\n",
        "\n",
        "Now let's reformat our data to be in long format for plotting in `seaborn`."
      ],
      "metadata": {
        "id": "IkWwtVEJOFwP"
      }
    },
    {
      "cell_type": "code",
      "source": [
        "#@title Task\n",
        "from IPython.display import HTML\n",
        "\n",
        "alert_info = '''\n",
        "<div style=\"font-size: 20px;\" class=\"alert alert-info\" role=\"alert\">\n",
        "  <h4 class=\"alert-heading\">Task</h4>\n",
        "   Run the following cell to transform the data into long format.<br>\n",
        "   You don't need to know the details, but feel free to show the code if you are interested.\n",
        "</div>\n",
        "'''\n",
        "\n",
        "display(HTML('<link href=\"https://nbviewer.org/static/build/styles.css\" rel=\"stylesheet\">'))\n",
        "display(HTML(alert_info))"
      ],
      "metadata": {
        "colab": {
          "base_uri": "https://localhost:8080/",
          "height": 229
        },
        "cellView": "form",
        "id": "zNZcKY4Tg7u6",
        "outputId": "a7a9df8b-6b7d-469a-ab68-698e2bde5cca"
      },
      "execution_count": null,
      "outputs": [
        {
          "output_type": "display_data",
          "data": {
            "text/plain": [
              "<IPython.core.display.HTML object>"
            ],
            "text/html": [
              "<link href=\"https://nbviewer.org/static/build/styles.css\" rel=\"stylesheet\">"
            ]
          },
          "metadata": {}
        },
        {
          "output_type": "display_data",
          "data": {
            "text/plain": [
              "<IPython.core.display.HTML object>"
            ],
            "text/html": [
              "\n",
              "<div style=\"font-size: 20px;\" class=\"alert alert-info\" role=\"alert\">\n",
              "  <h4 class=\"alert-heading\">Task</h4>\n",
              "   Run the following cell to transform the data into long format.<br>\n",
              "   You don't need to know the details, but feel free to show the code if you are interested.\n",
              "</div>\n"
            ]
          },
          "metadata": {}
        }
      ]
    },
    {
      "cell_type": "code",
      "source": [
        "#@title Just run this cell - Hidden code\n",
        "driving_long = driving_clean.melt(var_name = \"Condition\", value_name = \"Reaction Time\")\n",
        "driving_long"
      ],
      "metadata": {
        "id": "9baO9p4nOKmE",
        "cellView": "form"
      },
      "execution_count": null,
      "outputs": []
    },
    {
      "cell_type": "code",
      "source": [
        "### RUN THIS CELL ###\n",
        "\n",
        "# Set this text for the plot- easiest to edit here as needed\n",
        "x_label_name = \"Condition\"                                                    # x-axis label text\n",
        "y_label_name = \"Reaction Time (s)\"                                            # y-axis label text\n",
        "plot_title = \"Reaction Times for Different Conditions\"                        # plot title text\n",
        "fig_name_boxplot = \"Boxplot_Driving.png\"                                      # name for file when saving\n",
        "\n",
        "# Example of a  boxplot\n",
        "bp = sns.boxplot(\n",
        "        data = driving_long,                                                  # **Note the name of the updated df here**\n",
        "        x = \"Condition\",                                                      # column name to use values for x-axis\n",
        "        y = \"Reaction Time\",                                                  # column name to use values for y-axis\n",
        "        width = 0.3)                                                          # box width\n",
        "\n",
        "# Adjustment + aesthetics of plot\n",
        "bp.figure.set_size_inches(6.5, 4.5)                                           # this sets the size and we will use to be consistent across all plots below\n",
        "sns.despine()                                                                 # remove top and right axes (w/o this, full box border)\n",
        "plt.xlabel(x_label_name)                                                      # use matplotlib (plt) to adjust the x axis on this one\n",
        "plt.ylabel(y_label_name)                                                      # use matplotlib (plt) to adjust the y axis on this one\n",
        "plt.title(plot_title, y=1.05)                                                 # add a title so we know what we plotted!\n",
        "plt.ylim(0,5)                                                                 # use matplotlib (plt) to adjust the y axis limits\n",
        "\n",
        "# Save our figure\n",
        "plt.savefig(fig_name_boxplot, dpi=300, bbox_inches=\"tight\")"
      ],
      "metadata": {
        "id": "NqY8kiH0iDmK"
      },
      "execution_count": null,
      "outputs": []
    },
    {
      "cell_type": "markdown",
      "source": [
        "This is helpful, but let's overlay the individual points so we can see them as well."
      ],
      "metadata": {
        "id": "qGpMZFkYPA47"
      }
    },
    {
      "cell_type": "code",
      "source": [
        "### RUN THIS CELL ###\n",
        "\n",
        "# Set this text for the plot- easiest to edit here as needed\n",
        "x_label_name = \"Condition\"                                                    # x-axis label text\n",
        "y_label_name = \"Reaction Time (s)\"                                            # y-axis label text\n",
        "plot_title = \"Reaction Times for Different Conditions\"                        # plot title text\n",
        "fig_name_boxplot2 = \"Boxplot_PointOverlay_Driving.png\"                        # name for file when saving\n",
        "\n",
        "# Example of a boxplot\n",
        "bp = sns.boxplot(\n",
        "        data = driving_long,                                                  # **Note the name of the updated df here**\n",
        "        x = \"Condition\",                                                      # column name to use values for x-axis\n",
        "        y = \"Reaction Time\",                                                  # column name to use values for y-axis\n",
        "        width = 0.3)                                                          # box width\n",
        "\n",
        "# Example of stripplot - overlaid on top\n",
        "sns.stripplot(\n",
        "    data = driving_long,\n",
        "    x = \"Condition\",                                                          # column name to use values for x-axis\n",
        "    y = \"Reaction Time\",                                                      # column name to use values for y-axis\n",
        "    color = \"orange\",                                                         # color of dots\n",
        "    alpha=0.6,                                                                # transparency of dots\n",
        "    jitter=True)                                                              # jitter spacing to prevent overlap\n",
        "\n",
        "\n",
        "# Adjustment + aesthetics of plot\n",
        "bp.figure.set_size_inches(6.5, 4.5)                                           # this sets the size and we will use to be consistent across all plots below\n",
        "sns.despine()                                                                 # remove top and right axes (w/o this, full box border)\n",
        "plt.xlabel(x_label_name)                                                      # use matplotlib (plt) to adjust the x axis on this one\n",
        "plt.ylabel(y_label_name)                                                      # use matplotlib (plt) to adjust the y axis on this one\n",
        "plt.title(plot_title, y=1.05)                                                 # add a title so we know what we plotted!\n",
        "plt.ylim(0,5)                                                                 # use matplotlib (plt) to adjust the y axis limits\n",
        "\n",
        "# Save our figure\n",
        "plt.savefig(fig_name_boxplot2, dpi=300, bbox_inches=\"tight\")"
      ],
      "metadata": {
        "id": "NimrBnhiO9_N"
      },
      "execution_count": null,
      "outputs": []
    },
    {
      "cell_type": "markdown",
      "source": [
        "---\n",
        "## Class Driving Data 🚘 🚦\n",
        "<a name=\"class-data\"></a>"
      ],
      "metadata": {
        "id": "XFTO2KXvhYXN"
      }
    },
    {
      "cell_type": "code",
      "source": [
        "### RUN THIS CELL ###\n",
        "\n",
        "!wget --no-check-certificate 'https://docs.google.com/uc?export=download&id=1H-25-Wptp5JYzQDXKwtYcKOeTaC_a1DV' -O NS479_SP25_RedLightReaction_Dataset.xlsx"
      ],
      "metadata": {
        "id": "s0_xKzf6hogV"
      },
      "execution_count": null,
      "outputs": []
    },
    {
      "cell_type": "code",
      "source": [
        "### RUN THIS CELL ###\n",
        "## Import file\n",
        "\n",
        "class_data = pd.read_excel('NS479_SP25_RedLightReaction_Dataset.xlsx')\n",
        "print('data imported!')"
      ],
      "metadata": {
        "id": "1U-KvQ6dhogW"
      },
      "execution_count": null,
      "outputs": []
    },
    {
      "cell_type": "code",
      "source": [
        "### RUN THIS CELL ###\n",
        "\n",
        "class_data"
      ],
      "metadata": {
        "id": "D_K0olxSnMWc"
      },
      "execution_count": null,
      "outputs": []
    },
    {
      "cell_type": "code",
      "source": [
        "### RUN THIS CELL ###\n",
        "\n",
        "class_data.describe()"
      ],
      "metadata": {
        "id": "AJYiouWChogW"
      },
      "execution_count": null,
      "outputs": []
    },
    {
      "cell_type": "code",
      "source": [
        "### RUN THIS CELL ###\n",
        "\n",
        "class_data.info()"
      ],
      "metadata": {
        "id": "aLnw157uhjBd"
      },
      "execution_count": null,
      "outputs": []
    },
    {
      "cell_type": "code",
      "source": [
        "#@title Task\n",
        "from IPython.display import HTML\n",
        "\n",
        "alert_info = '''\n",
        "<div style=\"font-size: 20px;\" class=\"alert alert-info\" role=\"alert\">\n",
        "  <h4 class=\"alert-heading\">Task</h4>\n",
        "   Run the following cell to transform the data into long format.<br>\n",
        "   You don't need to know the details, but feel free to show the code if you are interested.\n",
        "</div>\n",
        "'''\n",
        "\n",
        "display(HTML('<link href=\"https://nbviewer.org/static/build/styles.css\" rel=\"stylesheet\">'))\n",
        "display(HTML(alert_info))"
      ],
      "metadata": {
        "cellView": "form",
        "colab": {
          "base_uri": "https://localhost:8080/",
          "height": 229
        },
        "id": "DVX1LaQDjizS",
        "outputId": "add2965e-ffac-4405-9401-c96ac62400e5"
      },
      "execution_count": null,
      "outputs": [
        {
          "output_type": "display_data",
          "data": {
            "text/plain": [
              "<IPython.core.display.HTML object>"
            ],
            "text/html": [
              "<link href=\"https://nbviewer.org/static/build/styles.css\" rel=\"stylesheet\">"
            ]
          },
          "metadata": {}
        },
        {
          "output_type": "display_data",
          "data": {
            "text/plain": [
              "<IPython.core.display.HTML object>"
            ],
            "text/html": [
              "\n",
              "<div style=\"font-size: 20px;\" class=\"alert alert-info\" role=\"alert\">\n",
              "  <h4 class=\"alert-heading\">Task</h4>\n",
              "   Run the following cell to transform the data into long format.<br>\n",
              "   You don't need to know the details, but feel free to show the code if you are interested.\n",
              "</div>\n"
            ]
          },
          "metadata": {}
        }
      ]
    },
    {
      "cell_type": "code",
      "source": [
        "#@title Just run this cell - hidden code\n",
        "class_data = class_data.drop(\"Participant\", axis=1)\n",
        "class_data = class_data.rename(columns={'Applet 1: Enter your time': 'Applet 1', 'Applet 2: Enter your time': 'Applet 2'})\n",
        "class_data_long = class_data.melt(var_name = \"Condition\", value_name = \"Reaction Time\")\n",
        "class_data_long"
      ],
      "metadata": {
        "cellView": "form",
        "id": "rRXuIje7jXLN"
      },
      "execution_count": null,
      "outputs": []
    },
    {
      "cell_type": "code",
      "source": [
        "#@title Alert\n",
        "from IPython.display import HTML\n",
        "\n",
        "alert_info = '''\n",
        "<div class=\"alert alert-block alert-warning\">\n",
        "<div style= \"font-size: 20px\">\n",
        "  <h4 class=\"alert-heading\">Alert</h4>\n",
        "<b>Edit the code below where you see <code>insert_name</code>.</b>\n",
        "</div>\n",
        "'''\n",
        "\n",
        "\n",
        "display(HTML('<link href=\"https://nbviewer.org/static/build/styles.css\" rel=\"stylesheet\">'))\n",
        "display(HTML(alert_info))"
      ],
      "metadata": {
        "colab": {
          "base_uri": "https://localhost:8080/",
          "height": 201
        },
        "cellView": "form",
        "id": "k_8qzBVav0nc",
        "outputId": "f5852318-9717-46de-870c-c57b3492bc57"
      },
      "execution_count": null,
      "outputs": [
        {
          "output_type": "display_data",
          "data": {
            "text/plain": [
              "<IPython.core.display.HTML object>"
            ],
            "text/html": [
              "<link href=\"https://nbviewer.org/static/build/styles.css\" rel=\"stylesheet\">"
            ]
          },
          "metadata": {}
        },
        {
          "output_type": "display_data",
          "data": {
            "text/plain": [
              "<IPython.core.display.HTML object>"
            ],
            "text/html": [
              "\n",
              "<div class=\"alert alert-block alert-warning\">\n",
              "<div style= \"font-size: 20px\">\n",
              "  <h4 class=\"alert-heading\">Alert</h4>\n",
              "<b>Edit the code below where you see <code>insert_name</code>.</b>\n",
              "</div>\n"
            ]
          },
          "metadata": {}
        }
      ]
    },
    {
      "cell_type": "code",
      "source": [
        "#-- **EDIT this cell\n",
        "\n",
        "# Set this text for the plot- easiest to edit here as needed\n",
        "x_label_name = \"<insert_name>\"                                                #** EDIT THIS\n",
        "y_label_name = \"<insert_name>\"                                                #** EDIT THIS\n",
        "plot_title = \"<insert_name>\"                                                  #** EDIT THIS\n",
        "fig_name_boxplot = \"Boxplot_ClassData_Driving.png\"                            # name for file when saving\n",
        "\n",
        "# Example of a  boxplot\n",
        "bp = sns.boxplot(\n",
        "        data = class_data_long,                                               # **Note the name of the df here**\n",
        "        x = \"<insert_name>\",                                                  #** EDIT THIS- column name to use values for x-axis\n",
        "        y = \"<insert_name>\",                                                  #** EDIT THIS- column name to use values for y-axis\n",
        "        width = 0.3)                                                          # box width\n",
        "\n",
        "# Don't change below this line ---------\n",
        "# Adjustment + aesthetics of plot\n",
        "bp.figure.set_size_inches(6.5, 4.5)                                           # this sets the size and we will use to be consistent across all plots below\n",
        "sns.despine()                                                                 # remove top and right axes (w/o this, full box border)\n",
        "plt.xlabel(x_label_name)                                                      # use matplotlib (plt) to adjust the x axis on this one\n",
        "plt.ylabel(y_label_name)                                                      # use matplotlib (plt) to adjust the y axis on this one\n",
        "plt.title(plot_title, y=1.05)                                                 # add a title so we know what we plotted!\n",
        "# plt.ylim(0,8)                                                               # see how the plot appears, and then adjust if you want\n",
        "\n",
        "# Save our figure\n",
        "plt.savefig(fig_name_boxplot, dpi=300, bbox_inches=\"tight\")"
      ],
      "metadata": {
        "id": "PrVsNKpKlBDa"
      },
      "execution_count": null,
      "outputs": []
    },
    {
      "cell_type": "markdown",
      "source": [
        "## Outliers\n",
        "<a name=\"class-out\"></a>"
      ],
      "metadata": {
        "id": "3ZPGjVHFmF-b"
      }
    },
    {
      "cell_type": "markdown",
      "source": [
        "### Applet 1\n",
        "<a name=\"class-app1\"></a>"
      ],
      "metadata": {
        "id": "fRg0yw1tmHNj"
      }
    },
    {
      "cell_type": "code",
      "source": [
        "### RUN THIS CELL ###\n",
        "# Checking outliers per condition - Applet 1\n",
        "\n",
        "# Compute Q1 (25th percentile) and Q3 (75th percentile)\n",
        "Q1_app1 = np.percentile(class_data['Applet 1'], 25)\n",
        "Q3_app1 = np.percentile(class_data['Applet 1'], 75)\n",
        "IQR_app1 = Q3_app1 - Q1_app1\n",
        "\n",
        "# Define lower and upper bounds for outliers\n",
        "lower_bound_app1 = Q1_app1 - 1.5 * IQR_app1\n",
        "upper_bound_app1 = Q3_app1 + 1.5 * IQR_app1\n",
        "\n",
        "# print these numbers so we can see them\n",
        "print('Applet 1 calcs')\n",
        "print('Q1 value:', Q1_app1)\n",
        "print('Q3 value:', Q3_app1)\n",
        "print('IQR value:', IQR_app1)\n",
        "print('Lower bound:', lower_bound_app1)\n",
        "print('Upper bound:', upper_bound_app1)\n",
        "\n",
        "# Identify outliers\n",
        "outliers = class_data[(class_data['Applet 1'] < lower_bound_app1) | (class_data['Applet 1'] > upper_bound_app1)]\n",
        "outliers"
      ],
      "metadata": {
        "id": "RNzenZmVmCj_"
      },
      "execution_count": null,
      "outputs": []
    },
    {
      "cell_type": "markdown",
      "source": [
        "### Applet 2\n",
        "<a name=\"class-app2\"></a>"
      ],
      "metadata": {
        "id": "DWbZpr8Imtk5"
      }
    },
    {
      "cell_type": "code",
      "source": [
        "### RUN THIS CELL ###\n",
        "# Checking outliers per condition - Applet 2\n",
        "\n",
        "# Compute Q1 (25th percentile) and Q3 (75th percentile)\n",
        "Q1_app2 = np.percentile(class_data['Applet 2'], 25)\n",
        "Q3_app2 = np.percentile(class_data['Applet 2'], 75)\n",
        "IQR_app2 = Q3_app2 - Q1_app2\n",
        "\n",
        "# Define lower and upper bounds for outliers\n",
        "lower_bound_app2 = Q1_app2 - 1.5 * IQR_app2\n",
        "upper_bound_app2 = Q3_app2 + 1.5 * IQR_app2\n",
        "\n",
        "# print these numbers so we can see them\n",
        "print('Applet 2 calcs')\n",
        "print('Q1 value:', Q1_app2)\n",
        "print('Q3 value:', Q3_app2)\n",
        "print('IQR value:', IQR_app2)\n",
        "print('Lower bound:', lower_bound_app2)\n",
        "print('Upper bound:', upper_bound_app2)\n",
        "\n",
        "# Identify outliers\n",
        "outliers2 = class_data[(class_data['Applet 2'] < lower_bound_app2) | (class_data['Applet 2'] > upper_bound_app2)]\n",
        "outliers2"
      ],
      "metadata": {
        "id": "Ta187V93mCkA"
      },
      "execution_count": null,
      "outputs": []
    },
    {
      "cell_type": "markdown",
      "source": [
        "If there are outliers, then run the next code cells to see that they are removed."
      ],
      "metadata": {
        "id": "vUQTw-kOmCkA"
      }
    },
    {
      "cell_type": "code",
      "source": [
        "### RUN THIS CELL ###\n",
        "app1_class = class_data.drop(class_data[(class_data['Applet 1'] < lower_bound_app1) | (class_data['Applet 1'] > upper_bound_app1)].index)\n",
        "app1_class"
      ],
      "metadata": {
        "id": "8ajQG_q5mCkA"
      },
      "execution_count": null,
      "outputs": []
    },
    {
      "cell_type": "markdown",
      "source": [
        "Double check the appropriate data was removed and there are no outliers in the new dataframe."
      ],
      "metadata": {
        "id": "91UABSlomCkB"
      }
    },
    {
      "cell_type": "code",
      "source": [
        "### RUN THIS CELL ###\n",
        "# Checking outliers per condition - Applet 1\n",
        "\n",
        "# Compute Q1 (25th percentile) and Q3 (75th percentile)\n",
        "Q1_app1 = np.percentile(class_data['Applet 1'], 25)\n",
        "Q3_app1 = np.percentile(class_data['Applet 1'], 75)\n",
        "IQR_app1 = Q3_app1 - Q1_app1\n",
        "\n",
        "# Define lower and upper bounds for outliers\n",
        "lower_bound_app1 = Q1_app1 - 1.5 * IQR_app1\n",
        "upper_bound_app1 = Q3_app1 + 1.5 * IQR_app1\n",
        "\n",
        "# print these numbers so we can see them\n",
        "print('Applet 1 calcs')\n",
        "print('Q1 value:', Q1_app1)\n",
        "print('Q3 value:', Q3_app1)\n",
        "print('IQR value:', IQR_app1)\n",
        "print('Lower bound:', lower_bound_app1)\n",
        "print('Upper bound:', upper_bound_app1)\n",
        "\n",
        "# Identify outliers\n",
        "outliers_check = app1_class[(app1_class['Applet 1'] < lower_bound_app1) | (app1_class['Applet 1'] > upper_bound_app1)]\n",
        "outliers_check"
      ],
      "metadata": {
        "id": "MqjX3ugGmCkB"
      },
      "execution_count": null,
      "outputs": []
    },
    {
      "cell_type": "markdown",
      "source": [
        "Now we will remove the Applet 2 outliers. We will use similar code, but need to make sure we use the most recent dataframe `app1_driving` we created above instead of the orignal."
      ],
      "metadata": {
        "id": "kYNSKeF-mCkB"
      }
    },
    {
      "cell_type": "code",
      "source": [
        "### RUN THIS CELL ###\n",
        "class_clean = app1_class.drop(app1_class[(app1_class['Applet 2'] < lower_bound_app2) | (app1_class['Applet 2'] > upper_bound_app2)].index)\n",
        "class_clean"
      ],
      "metadata": {
        "id": "hsrHtxvimCkB"
      },
      "execution_count": null,
      "outputs": []
    },
    {
      "cell_type": "markdown",
      "source": [
        "Double check the appropriate data was removed and there are no outliers in the new dataframe."
      ],
      "metadata": {
        "id": "6HzZQXA1mCkB"
      }
    },
    {
      "cell_type": "code",
      "source": [
        "### RUN THIS CELL ###\n",
        "# Checking outliers per condition - Applet 2\n",
        "\n",
        "# Compute Q1 (25th percentile) and Q3 (75th percentile)\n",
        "Q1_app2 = np.percentile(class_data['Applet 2'], 25)\n",
        "Q3_app2 = np.percentile(class_data['Applet 2'], 75)\n",
        "IQR_app2 = Q3_app2 - Q1_app2\n",
        "\n",
        "# Define lower and upper bounds for outliers\n",
        "lower_bound_app2 = Q1_app2 - 1.5 * IQR_app2\n",
        "upper_bound_app2 = Q3_app2 + 1.5 * IQR_app2\n",
        "\n",
        "# print these numbers so we can see them\n",
        "print('Applet 2 calcs')\n",
        "print('Q1 value:', Q1_app2)\n",
        "print('Q3 value:', Q3_app2)\n",
        "print('IQR value:', IQR_app2)\n",
        "print('Lower bound:', lower_bound_app2)\n",
        "print('Upper bound:', upper_bound_app2)\n",
        "\n",
        "# Identify outliers\n",
        "outliers2_check = class_clean[(class_clean['Applet 2'] < lower_bound_app2) | (class_clean['Applet 2'] > upper_bound_app2)]\n",
        "outliers2_check"
      ],
      "metadata": {
        "id": "-HuGjD46mCkB"
      },
      "execution_count": null,
      "outputs": []
    },
    {
      "cell_type": "code",
      "source": [
        "### RUN THIS CELL ###\n",
        "# Reset the index\n",
        "class_clean.reset_index(drop=True, inplace=True)\n",
        "class_clean"
      ],
      "metadata": {
        "id": "WePikEyLoV3c"
      },
      "execution_count": null,
      "outputs": []
    },
    {
      "cell_type": "markdown",
      "source": [
        "## Distribution Check\n",
        "<a name=\"class-dist\"></a>"
      ],
      "metadata": {
        "id": "R5ZNR91oo60l"
      }
    },
    {
      "cell_type": "markdown",
      "source": [
        "Before we run any statistical tests, we should check our distributions. The following code is setup to do this for Applet 1 and Applet 2.<br>\n",
        "Here will we start using our `scipy` stats package, that we imported as `stats` at the beginning."
      ],
      "metadata": {
        "id": "iHqFuwhGo60l"
      }
    },
    {
      "cell_type": "code",
      "source": [
        "### RUN THIS CELL ###\n",
        "\n",
        "# Subselect our samples\n",
        "sample_1 = class_clean['Applet 1']\n",
        "sample_2 = class_clean['Applet 2']\n",
        "\n",
        "# Set this text for the plot- easiest to edit here as needed\n",
        "x_label_skew = \"Reaction time (secs)\"                           # x-axis label\n",
        "y_label_skew = \"Frequency (count)\"                              # y-axis label\n",
        "br1 = \"Applet 1\"                                                # reaction time 1\n",
        "br2 = \"Applet 2 \"                                               # reaction time 2\n",
        "plot_title_skew_br1 = br1 + \" Distribution\"                     # combine text for title for plot1\n",
        "plot_title_skew_br2 = br2 + \" Distribution\"                     # combine text for title for plot2\n",
        "\n",
        "# set a theme for consistency and format\n",
        "sns.set_theme(style=\"ticks\", font_scale=1.25)                   # set the theme we want in seaborn (sns) - always start with this\n",
        "\n",
        "# Run the skew test\n",
        "stats_1, pvalue_1 = stats.skewtest(sample_1)                    # this runs the skewtest with the stats package for sample 1\n",
        "stats_2, pvalue_2 = stats.skewtest(sample_2)                    # this runs the skewtest with the stats package for sample 2\n",
        "\n",
        "# Print the p-value of both skew tests\n",
        "print(br1 + ' skew test pvalue: ' + str(pvalue_1))              # This shows us the output of the test: p-value for significance\n",
        "print(br2 + ' skew test pvalue: ' + str(pvalue_2))\n",
        "\n",
        "# Plot our distributions                                        # use plt (matplotlib) to setup plot and aesthetics\n",
        "plt.hist(sample_1)                                              # Start plot for sample 1 (FroL in this case)\n",
        "plt.title(plot_title_skew_br1)                                  # Title of chart\n",
        "plt.xlabel(x_label_skew)                                        # xlabel for this comparison- resting potential\n",
        "plt.ylabel(y_label_skew)                                        # hist plot so this is frequency or count (of cells)\n",
        "plt.show()                                                      # actually show the plot we created (this is important!)\n",
        "plt.hist(sample_2)                                              #### this repeats the above steps, but is adjusted for sample 2 (other brain region)\n",
        "plt.title(plot_title_skew_br2)\n",
        "plt.xlabel(x_label_skew)\n",
        "plt.ylabel(y_label_skew);"
      ],
      "metadata": {
        "id": "KFeqe-HKo60l"
      },
      "execution_count": null,
      "outputs": []
    },
    {
      "cell_type": "markdown",
      "source": [
        "## Statistical Comparison\n",
        "\n",
        "<a name=\"class-stats\"></a>\n",
        "\n",
        "If the data **are** normally distributed, use a\n",
        "[matched pairs t-test](https://docs.scipy.org/doc/scipy/reference/generated/scipy.stats.ttest_rel.html).<br>\n",
        "\n",
        "This is a test for the null hypothesis that two related or repeated samples have identical average (expected) values.<br><br>\n",
        "\n",
        "\n",
        "If the data are **not** normally distributed, use nonparametric version of the matched pairs t-test (we ran this above):\n",
        "[Wilcoxon signed-rank test](https://docs.scipy.org/doc/scipy/reference/generated/scipy.stats.wilcoxon.html).<br>\n",
        "\n",
        "We will test the null hypothesis that two related paired samples come from the same distribution.<br><br>\n",
        "\n",
        "**Only run one of the cells below** corresponding to the test you should run based on the skew results above."
      ],
      "metadata": {
        "id": "GeUtm_-HpYhQ"
      }
    },
    {
      "cell_type": "code",
      "source": [
        "#@title Alert\n",
        "from IPython.display import HTML\n",
        "\n",
        "alert_info = '''\n",
        "<div class=\"alert alert-block alert-warning\">\n",
        "<div style= \"font-size: 20px\">\n",
        "  <h4 class=\"alert-heading\">Alert</h4>\n",
        "<b>Choose the correct statistical test to run below based on the results of the skew test above.</b>\n",
        "</div>\n",
        "'''\n",
        "\n",
        "\n",
        "display(HTML('<link href=\"https://nbviewer.org/static/build/styles.css\" rel=\"stylesheet\">'))\n",
        "display(HTML(alert_info))"
      ],
      "metadata": {
        "colab": {
          "base_uri": "https://localhost:8080/",
          "height": 201
        },
        "cellView": "form",
        "id": "nafAyHpPwfJi",
        "outputId": "469bf715-4be5-4258-eabe-182d6b4ed8ed"
      },
      "execution_count": null,
      "outputs": [
        {
          "output_type": "display_data",
          "data": {
            "text/plain": [
              "<IPython.core.display.HTML object>"
            ],
            "text/html": [
              "<link href=\"https://nbviewer.org/static/build/styles.css\" rel=\"stylesheet\">"
            ]
          },
          "metadata": {}
        },
        {
          "output_type": "display_data",
          "data": {
            "text/plain": [
              "<IPython.core.display.HTML object>"
            ],
            "text/html": [
              "\n",
              "<div class=\"alert alert-block alert-warning\">\n",
              "<div style= \"font-size: 20px\">\n",
              "  <h4 class=\"alert-heading\">Alert</h4>\n",
              "<b>Choose the correct statistical test to run below based on the results of the skew test above.</b>\n",
              "</div>\n"
            ]
          },
          "metadata": {}
        }
      ]
    },
    {
      "cell_type": "code",
      "source": [
        "# Statistical comparison- if **not** normally distributed\n",
        "\n",
        "stats.ttest_rel(sample_1, sample_2)"
      ],
      "metadata": {
        "id": "Ummh0sFKp_lB"
      },
      "execution_count": null,
      "outputs": []
    },
    {
      "cell_type": "code",
      "source": [
        "# Statistical comparison- if **not** normally distributed\n",
        "\n",
        "stats.wilcoxon(sample_1, sample_2)"
      ],
      "metadata": {
        "id": "to6zaDK9pYhQ"
      },
      "execution_count": null,
      "outputs": []
    },
    {
      "cell_type": "markdown",
      "source": [
        "## Mean or Median?\n",
        "<a name=\"class-mean-median\"></a>\n",
        "\n",
        "\n",
        "Either get the median values (Wilcoxon signed-rank test) or the means (matched pairs t-test).<br>\n",
        "\n",
        "**Only run one of the cells below** corresponding to which statistical test you ran."
      ],
      "metadata": {
        "id": "S2iFjNp0pYhQ"
      }
    },
    {
      "cell_type": "code",
      "source": [
        "#@title Alert\n",
        "from IPython.display import HTML\n",
        "\n",
        "alert_info = '''\n",
        "<div class=\"alert alert-block alert-warning\">\n",
        "<div style= \"font-size: 20px\">\n",
        "  <h4 class=\"alert-heading\">Alert</h4>\n",
        "<b>Choose the correct value to find (mean or median) based on the test you ran above.<br>\n",
        "Matched pairs t-test: mean<br>\n",
        "Wilcoxon signed-rank test: median</b>\n",
        "</div>\n",
        "'''\n",
        "\n",
        "\n",
        "display(HTML('<link href=\"https://nbviewer.org/static/build/styles.css\" rel=\"stylesheet\">'))\n",
        "display(HTML(alert_info))"
      ],
      "metadata": {
        "colab": {
          "base_uri": "https://localhost:8080/",
          "height": 260
        },
        "cellView": "form",
        "id": "0WJ_SOQywknS",
        "outputId": "f64a0f3b-ce33-4d88-b06c-af59d7f5e661"
      },
      "execution_count": null,
      "outputs": [
        {
          "output_type": "display_data",
          "data": {
            "text/plain": [
              "<IPython.core.display.HTML object>"
            ],
            "text/html": [
              "<link href=\"https://nbviewer.org/static/build/styles.css\" rel=\"stylesheet\">"
            ]
          },
          "metadata": {}
        },
        {
          "output_type": "display_data",
          "data": {
            "text/plain": [
              "<IPython.core.display.HTML object>"
            ],
            "text/html": [
              "\n",
              "<div class=\"alert alert-block alert-warning\">\n",
              "<div style= \"font-size: 20px\">\n",
              "  <h4 class=\"alert-heading\">Alert</h4>\n",
              "<b>Choose the correct value to find (mean or median) based on the test you ran above.<br>\n",
              "Matched pairs t-test: mean<br>\n",
              "Wilcoxon signed-rank test: median</b>\n",
              "</div>\n"
            ]
          },
          "metadata": {}
        }
      ]
    },
    {
      "cell_type": "code",
      "source": [
        "# Find median using numpy (np) package\n",
        "\n",
        "app1_median = np.median(sample_1)\n",
        "app2_median = np.median(sample_2)\n",
        "\n",
        "print('Applet 1 Median: ' + str(app1_median))\n",
        "print('Applet 2 Median: ' + str(app2_median))"
      ],
      "metadata": {
        "id": "_yhhgx0ZpYhR"
      },
      "execution_count": null,
      "outputs": []
    },
    {
      "cell_type": "code",
      "source": [
        "# Find mean using numpy (np) package\n",
        "\n",
        "app1_mean = np.mean(sample_1).round(2)\n",
        "app2_mean = np.mean(sample_2).round(2)\n",
        "\n",
        "print('Applet 1 Median: ' + str(app1_mean))\n",
        "print('Applet 2 Median: ' + str(app2_mean))"
      ],
      "metadata": {
        "id": "iTFwHsCuq-Z1"
      },
      "execution_count": null,
      "outputs": []
    },
    {
      "cell_type": "markdown",
      "source": [
        "## Results interpretation:\n",
        "<a name=\"class-results-interp\"></a>\n",
        "\n",
        "Fill in the information below: <br> <br>\n",
        "A [`insert name of test`] indicated that the [`insert median/mean`] reaction times for driving with distraction ([`insert median/mean`]) were [`insert significantly/not significantly`] slower than driving without distraction ([`insert median/mean`]), [`insert statistic results here`].\n",
        "<br><br>\n",
        "If you are unsure what to write, click on the link to go back to the previous [Results Interpretation](#results-interp)"
      ],
      "metadata": {
        "id": "XO7OsmPrpYhR"
      }
    },
    {
      "cell_type": "markdown",
      "source": [
        "---\n",
        "# Exercise: Interactive Data Visualization with ChatGPT\n",
        "<a name=\"chatgpt\"></a>\n",
        "\n",
        "**Goal:** Recreate the final figure showing the relationship between average temperature across Nevada counties using ChatGPT for guidance.\n",
        "<br>\n",
        "<br>\n",
        "**Instructions**<br>\n",
        "**1. Download the dataset into the notebook- code provided below**\n",
        "  * The dataset contains: temperature, population, county, and region data for Nevada\n",
        "\n",
        "**2. Interact with ChatGPT**\n",
        "  * Your task is to recreate the visualization shown on the slide\n",
        "  * You can ask questions such as:\n",
        "    * How do I create a bar plot with temperature data using Seaborn or Matplotlib?\n",
        "  * Iterate with ChatGPT to refine your visualization\n",
        "**3. Generate your plot**\n",
        "  * Implement the suggestions you receive from ChatGPT in this notebook\n",
        "  * Modify your plot as needed to match the target visualization\n",
        "**4. Reflect on the process**\n",
        "  * How helpful was ChatGPT in solving the problem?\n",
        "  * What additional refinements did you make?\n",
        "  * What challenges did you face, and how did you solve them?\n",
        "<br><br>\n",
        "\n",
        "**Submission**\n",
        "* Submit your final script (prompts with ChatGPT) and the generated figure\n",
        "* Include a brief (2-3 sentences) reflection on your experience using ChatGPT for this task<br>\n",
        "<u>Questions to consider:</u>\n",
        "Did you have enough data to produce your idea? How did you approach the challenge? What type of graphic did you use?\n",
        "<br><br>\n",
        "\n",
        "**Bonus:** You also have data available related to population size. Add information about population to the same temperature plot you created, or create a different plot if that's the best to see both variables in the same plot. (Interact with ChatGPT to bring these ideas into a visualization)\n",
        "\n",
        "---"
      ],
      "metadata": {
        "id": "x7fepe7wyZNO"
      }
    },
    {
      "cell_type": "code",
      "source": [
        "### RUN THIS CELL ###\n",
        "\n",
        "!wget --no-check-certificate 'https://docs.google.com/uc?export=download&id=1H-hN6Eecshq1rHr6q78NUdQXfUMTP5bX' -O nevada_temp_pop.csv\n"
      ],
      "metadata": {
        "id": "tWicRX3y0NgL"
      },
      "execution_count": null,
      "outputs": []
    },
    {
      "cell_type": "code",
      "source": [
        "### RUN THIS CELL ###\n",
        "## Import file\n",
        "\n",
        "nevada = pd.read_csv('nevada_temp_pop.csv')\n",
        "print('data imported!')"
      ],
      "metadata": {
        "id": "rXPdfae40n4B"
      },
      "execution_count": null,
      "outputs": []
    },
    {
      "cell_type": "code",
      "source": [
        "### RUN THIS CELL ###\n",
        "\n",
        "nevada"
      ],
      "metadata": {
        "id": "GluWWPox0vhD"
      },
      "execution_count": null,
      "outputs": []
    },
    {
      "cell_type": "markdown",
      "source": [
        "Now add your code and interactions with ChatGPT here!"
      ],
      "metadata": {
        "id": "ytUngnh20zmb"
      }
    },
    {
      "cell_type": "code",
      "source": [],
      "metadata": {
        "id": "w--AkiXh02rp"
      },
      "execution_count": null,
      "outputs": []
    },
    {
      "cell_type": "code",
      "source": [],
      "metadata": {
        "id": "EeZH7GmS02ma"
      },
      "execution_count": null,
      "outputs": []
    },
    {
      "cell_type": "markdown",
      "source": [
        "---\n",
        "## 💁 A Few Tips on Data Visualization\n",
        "<a name=\"data-viz\"></a>\n",
        "\n",
        "Although there are many reviews and studies discussing [best practices for figures](https://journals.plos.org/ploscompbiol/article?id=10.1371/journal.pcbi.1003833), we will list a couple of `pandas` plots you can utilize when you wish to visualize various relationships:\n",
        "\n",
        "**Visualizing a single variable**\n",
        "- Histogram (```sns.hist()```)\n",
        "- Barplot, i.e. for counts of a single variable (```sns.barplot()```)\n",
        "\n",
        "**Visualizing multiple numeric variables**\n",
        "- Scatter plot/line graph (```sns.scatter```)\n",
        "- 2d histogram plot (```sns.jointplot()```)\n",
        "\n",
        "**Visualizing categorial & numerical variable**\n",
        "- Violinplot/Boxplot (```sns.violinplot()```, ```sns.boxplot()```)\n",
        "- Stripplot or swarm plot (```sns.stripplot()```, ```sns.swarmplot()```)\n",
        "- Barplot (```sns.barplot()```, ```sns.boxplot()```)\n",
        "\n",
        "**Visualizing two categorical variables**\n",
        "- Heatmap (```sns.heatmap()```)<br><br>\n",
        "\n",
        "\n",
        "To visualize 3 variables, consider encoding one variable as the color. To visualize 4+ variables, consider using [facetgrid](https://seaborn.pydata.org/generated/seaborn.FacetGrid.html).\n"
      ],
      "metadata": {
        "id": "gsmvsG8aPLvv"
      }
    },
    {
      "cell_type": "markdown",
      "source": [
        "---\n",
        "# Technical Notes and Credits 👏 🙏\n",
        "<a name=\"credits\"></a>\n",
        "\n",
        "* The exercises for this notebook were adapted from resources available from a published paper:<br>\n",
        " Heubach, S., & Phan-Yamada, T. (2024). Red Light Reaction – A Statistics Project with Real Life Application. Journal of Statistics and Data Science Education, 33(1), 46–51. https://doi.org/10.1080/26939169.2024.2407781"
      ],
      "metadata": {
        "id": "sKCb8dFEVPq5"
      }
    }
  ]
}